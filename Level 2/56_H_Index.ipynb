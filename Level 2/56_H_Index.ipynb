{
  "nbformat": 4,
  "nbformat_minor": 0,
  "metadata": {
    "colab": {
      "name": "56. H-Index",
      "provenance": []
    },
    "kernelspec": {
      "name": "python3",
      "display_name": "Python 3"
    }
  },
  "cells": [
    {
      "cell_type": "markdown",
      "metadata": {
        "id": "x0UE0w2NeEPv",
        "colab_type": "text"
      },
      "source": [
        "**56. H-Index**\n",
        "\n",
        "H-Index는 과학자의 생산성과 영향력을 나타내는 지표입니다. 어느 과학자의 H-Index를 나타내는 값인 h를 구하려고 합니다. 위키백과1에 따르면, H-Index는 다음과 같이 구합니다.\n",
        "\n",
        "어떤 과학자가 발표한 논문 n편 중, h번 이상 인용된 논문이 h편 이상이고 나머지 논문이 h번 이하 인용되었다면 h가 이 과학자의 H-Index입니다.\n",
        "\n",
        "어떤 과학자가 발표한 논문의 인용 횟수를 담은 배열 citations가 매개변수로 주어질 때, 이 과학자의 H-Index를 return 하도록 solution 함수를 작성해주세요."
      ]
    },
    {
      "cell_type": "code",
      "metadata": {
        "id": "eH692mh9eA2w",
        "colab_type": "code",
        "outputId": "35ed2bb6-0ef8-4059-877c-3f5a00c11b21",
        "colab": {
          "base_uri": "https://localhost:8080/",
          "height": 34
        }
      },
      "source": [
        "# 내 코드 \n",
        "\n",
        "def solution(citations):\n",
        "    citation_array = []\n",
        "    for i in range(len(citations)):     # 0, 1, 2\n",
        "        new_list = list(filter(lambda x: x>=i, citations))\n",
        "        if len(new_list) >= i:\n",
        "            citation_array.append(i)\n",
        "    if len(citations) > min(citations):\n",
        "        return max(citation_array)\n",
        "    else: \n",
        "        return len(citation_array)\n",
        "\n",
        "# i는 무조건 len(citations)보다 작아야 한다 \n",
        "\n",
        "# citations = [2, 4, 7]      # return 2\n",
        "# citations = [5, 5, 5]       # return 3 \n",
        "# citations = [3, 3, 3]       # return 3\n",
        "# citations = [20,19,18,1]       # return 3\n",
        "citations = [0, 0, 0]\n",
        "\n",
        "solution(citations)\n"
      ],
      "execution_count": 17,
      "outputs": [
        {
          "output_type": "execute_result",
          "data": {
            "text/plain": [
              "0"
            ]
          },
          "metadata": {
            "tags": []
          },
          "execution_count": 17
        }
      ]
    },
    {
      "cell_type": "code",
      "metadata": {
        "id": "7XWiPmkjgDq7",
        "colab_type": "code",
        "colab": {
          "base_uri": "https://localhost:8080/",
          "height": 34
        },
        "outputId": "41164661-ded2-4839-cb02-5d07b3566172"
      },
      "source": [
        "# 더 나은 풀이 \n",
        "\n",
        "def solution(citations):\n",
        "    citations = sorted(citations)\n",
        "    for i in range(len(citations)):\n",
        "        if citations[i] >= len(citations)-i:        # 2 >= 3 # 4>=2  \n",
        "            return len(citations)-i\n",
        "    return 0\n",
        "\n",
        "# citations = [2, 4, 7]      # return 2\n",
        "# citations = [5, 5, 5]       # return 3 \n",
        "# citations = [3, 3, 3]       # return 3\n",
        "# citations = [20,19,18,1]       # return 3\n",
        "citations = [0, 0, 0]\n",
        "\n",
        "solution(citations)"
      ],
      "execution_count": 20,
      "outputs": [
        {
          "output_type": "execute_result",
          "data": {
            "text/plain": [
              "0"
            ]
          },
          "metadata": {
            "tags": []
          },
          "execution_count": 20
        }
      ]
    },
    {
      "cell_type": "code",
      "metadata": {
        "id": "uXxQwBhX8uH3",
        "colab_type": "code",
        "colab": {}
      },
      "source": [
        "# 더더 나은 풀이 (갓코드)\n",
        "\n",
        "def solution(citations):\n",
        "    citations.sort(reverse=True)\n",
        "    answer = max(map(min, enumerate(citations, start=1)))\n",
        "    return answer \n",
        "\n",
        "# citations와 start 둘 중 최소를 가져야 한다. \n",
        "\n",
        "# citations = [2, 4, 7]      # return 2\n",
        "# 7, 4, 2 --> # 1: 7  2: 4   3: 2  # 1, 2, 2\n",
        "# citations = [5, 5, 5]       # return 3 \n",
        "# citations = [3, 3, 3]       # return 3\n",
        "# citations = [20,19,18,1]       # return 3\n"
      ],
      "execution_count": 0,
      "outputs": []
    }
  ]
}