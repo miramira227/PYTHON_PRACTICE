{
  "nbformat": 4,
  "nbformat_minor": 0,
  "metadata": {
    "colab": {
      "name": "73. 피보나치 수",
      "provenance": []
    },
    "kernelspec": {
      "name": "python3",
      "display_name": "Python 3"
    }
  },
  "cells": [
    {
      "cell_type": "markdown",
      "metadata": {
        "id": "T2XFtqQhlUAw",
        "colab_type": "text"
      },
      "source": [
        "**73. 피보나치 수**\n",
        "\n",
        "피보나치 수는 F(0) = 0, F(1) = 1일 때, 1 이상의 n에 대하여 F(n) = F(n-1) + F(n-2) 가 적용되는 수 입니다.\n",
        "\n",
        "예를들어\n",
        "\n",
        "F(2) = F(0) + F(1) = 0 + 1 = 1\n",
        "F(3) = F(1) + F(2) = 1 + 1 = 2\n",
        "F(4) = F(2) + F(3) = 1 + 2 = 3\n",
        "F(5) = F(3) + F(4) = 2 + 3 = 5\n",
        "와 같이 이어집니다.\n",
        "\n",
        "2 이상의 n이 입력되었을 때, n번째 피보나치 수를 1234567으로 나눈 나머지를 리턴하는 함수, solution을 완성해 주세요.\n",
        "\n"
      ]
    },
    {
      "cell_type": "code",
      "metadata": {
        "id": "UpcrFY-TlQFt",
        "colab_type": "code",
        "outputId": "f0f80e56-2860-4a77-f35c-d02589387068",
        "colab": {
          "base_uri": "https://localhost:8080/",
          "height": 36
        }
      },
      "source": [
        "# 내 코드\n",
        "# 일반 재귀함수로 풀었는데 시간이 너무 오래 걸려서 \n",
        "# 검색 결과 재귀 문제에서 재계산 없이 값을 저장해놓고 재사용하는 동적 프로그래밍! \n",
        "\n",
        "import time  \n",
        "\n",
        "def solution(n):\n",
        "    if n == 0:\n",
        "        return 0\n",
        "    elif n == 1:\n",
        "        return 1\n",
        "    else:\n",
        "        return (solution(n-1) + solution(n-2)) % 1234567\n",
        "\n",
        "start = time.time()\n",
        "solution(35)        # 35 이후부터 실행 속도가 현저히 느려짐 \n",
        "print(time.time() - start)\n"
      ],
      "execution_count": 14,
      "outputs": [
        {
          "output_type": "stream",
          "text": [
            "3.9956040382385254\n"
          ],
          "name": "stdout"
        }
      ]
    },
    {
      "cell_type": "code",
      "metadata": {
        "id": "vHt6XKW5l3Hg",
        "colab_type": "code",
        "outputId": "a1cd51a6-204d-4dc5-8cfc-19c544faf982",
        "colab": {
          "base_uri": "https://localhost:8080/",
          "height": 36
        }
      },
      "source": [
        "# 더 나은 코드 \n",
        "# 다이나믹 프로그래밍 적용 (각 n에 해당하는 값을 배열에 저장해놓음))\n",
        "\n",
        "def solution(n):\n",
        "    answer = [0] * (n+1)\n",
        "    answer[1] = 1\n",
        "    for i in range(2, n+1):\n",
        "        answer[i] = answer[i-1] + answer[i-2]\n",
        "    return answer[n] % 1234567\n",
        "\n",
        "start = time.time()\n",
        "solution(100)\n",
        "print(time.time() - start)"
      ],
      "execution_count": 7,
      "outputs": [
        {
          "output_type": "stream",
          "text": [
            "8.559226989746094e-05\n"
          ],
          "name": "stdout"
        }
      ]
    },
    {
      "cell_type": "code",
      "metadata": {
        "id": "sdxGCr3_Nqux",
        "colab_type": "code",
        "colab": {
          "base_uri": "https://localhost:8080/",
          "height": 36
        },
        "outputId": "e27fb191-af16-483e-80fe-98cdaa3fdaf0"
      },
      "source": [
        "# 더더 나은 코드(메모리 사용 최소화)\n",
        "# b : a+b의 값을 담음 \n",
        "# a : 이전 값들의 합이 담긴 b의 값을 받아옴 \n",
        "# 위 과정을 정확히 num번 반복함 \n",
        "\n",
        "def fibonacci(num):\n",
        "    a, b = 0, 1\n",
        "    for i in range(num):         \n",
        "        a, b = b, a+b\n",
        "    return a \n",
        "\n",
        "start = time.time()\n",
        "solution(100)\n",
        "print(time.time() - start)"
      ],
      "execution_count": 11,
      "outputs": [
        {
          "output_type": "stream",
          "text": [
            "5.507469177246094e-05\n"
          ],
          "name": "stdout"
        }
      ]
    }
  ]
}