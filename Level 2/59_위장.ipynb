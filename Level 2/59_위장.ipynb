{
  "nbformat": 4,
  "nbformat_minor": 0,
  "metadata": {
    "colab": {
      "name": "59. 위장",
      "provenance": []
    },
    "kernelspec": {
      "name": "python3",
      "display_name": "Python 3"
    }
  },
  "cells": [
    {
      "cell_type": "markdown",
      "metadata": {
        "id": "x0UE0w2NeEPv",
        "colab_type": "text"
      },
      "source": [
        "**59. 위장**\n",
        "\n",
        "스파이들은 매일 다른 옷을 조합하여 입어 자신을 위장합니다.\n",
        "\n",
        "예를 들어 스파이가 가진 옷이 아래와 같고 오늘 스파이가 동그란 안경, 긴 코트, 파란색 티셔츠를 입었다면 다음날은 청바지를 추가로 입거나 동그란 안경 대신 검정 선글라스를 착용하거나 해야 합니다.\n",
        "\n"
      ]
    },
    {
      "cell_type": "markdown",
      "metadata": {
        "id": "xNfEH6An4NCe",
        "colab_type": "text"
      },
      "source": [
        "![image.png](data:image/png;base64,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)"
      ]
    },
    {
      "cell_type": "markdown",
      "metadata": {
        "id": "pNKvw-sf4On0",
        "colab_type": "text"
      },
      "source": [
        "스파이가 가진 의상들이 담긴 2차원 배열 clothes가 주어질 때 서로 다른 옷의 조합의 수를 return 하도록 solution 함수를 작성해주세요.\n",
        "\n",
        "제한사항\n",
        "\n",
        "*clothes의 각 행은 [의상의 이름, 의상의 종류]로 이루어져 있습니다.\n",
        "\n",
        "*스파이가 가진 의상의 수는 1개 이상 30개 이하입니다.\n",
        "\n",
        "*같은 이름을 가진 의상은 존재하지 않습니다.\n",
        "clothes의 모든 원소는 문자열로 이루어져 있습니다.\n",
        "\n",
        "*모든 문자열의 길이는 1 이상 20 이하인 자연수이고 알파벳 소문자 또는 '_' 로만 이루어져 있습니다.\n",
        "\n",
        "*스파이는 하루에 최소 한 개의 의상은 입습니다."
      ]
    },
    {
      "cell_type": "code",
      "metadata": {
        "id": "eH692mh9eA2w",
        "colab_type": "code",
        "outputId": "2a99c98f-5c0d-459e-a08b-602c1cbeac07",
        "colab": {
          "base_uri": "https://localhost:8080/",
          "height": 52
        }
      },
      "source": [
        "# 내 코드 \n",
        "\n",
        "# 1. 각 옷 종류별로 list 정리하기 \n",
        "# 2. list 내에서 조합 만들기 \n",
        "\n",
        "def solution(clothes): \n",
        "    arranged = {}\n",
        "    numb_comb = 1\n",
        "\n",
        "    i = 0\n",
        "    while i < len(clothes):\n",
        "        arranged[clothes[i][1]] = [clothes[j][0] for j in range(len(clothes)) if clothes[j][1] == clothes[i][1]]\n",
        "        i += 1\n",
        "\n",
        "    for i in arranged.keys():       #\n",
        "        numb_comb *= len(arranged[i]) + 1\n",
        "    \n",
        "    return numb_comb - 1\n",
        "\n",
        "clothes = [['yellow_hat', 'headgear'], ['blue_sunglasses', 'eyewear'], ['green_turban', 'headgear']]\n",
        "# return 5\n",
        "# clothes = [['crow_mask', 'face'], ['blue_sunglasses', 'face'], ['smoky_makeup', 'face']]\n",
        "# return 3\n",
        "# clothes = [[\"qq\", \"r\"], [\"qq2\", \"r2\"], [\"rr\",\"r\"]]\n",
        "solution(clothes)\n",
        "\n",
        "\n"
      ],
      "execution_count": 53,
      "outputs": [
        {
          "output_type": "stream",
          "text": [
            "{'headgear': ['yellow_hat', 'green_turban'], 'eyewear': ['blue_sunglasses']}\n"
          ],
          "name": "stdout"
        },
        {
          "output_type": "execute_result",
          "data": {
            "text/plain": [
              "5"
            ]
          },
          "metadata": {
            "tags": []
          },
          "execution_count": 53
        }
      ]
    },
    {
      "cell_type": "code",
      "metadata": {
        "id": "7XWiPmkjgDq7",
        "colab_type": "code",
        "outputId": "1ca99a7f-d66a-422d-aa3f-61daff1dfd69",
        "colab": {
          "base_uri": "https://localhost:8080/",
          "height": 52
        }
      },
      "source": [
        "# 더 나은 코드 (모듈 열심히 사용하자)\n",
        "from collections import Counter \n",
        "from functools import reduce\n",
        "\n",
        "def solution(clothes):\n",
        "    cnt = Counter([kind for name, kind in clothes])     # clothes의 각 원소는 name, kind의 조합으로 되어있는데 그 중 kind의 갯수를 새서 Counter 오브젝트를 dictionary 형태로 보여준다 .  \n",
        "    # print(cnt)          # Counter({'headgear': 2, 'eyewear': 1})\n",
        "    answer = reduce(lambda x, y: x*(y+1), cnt.values(), 1) - 1\n",
        "    return answer \n",
        "\n",
        "clothes = [['yellow_hat', 'headgear'], ['blue_sunglasses', 'eyewear'], ['green_turban', 'headgear']]\n",
        "solution(clothes)\n"
      ],
      "execution_count": 2,
      "outputs": [
        {
          "output_type": "stream",
          "text": [
            "Counter({'headgear': 2, 'eyewear': 1})\n"
          ],
          "name": "stdout"
        },
        {
          "output_type": "execute_result",
          "data": {
            "text/plain": [
              "5"
            ]
          },
          "metadata": {
            "tags": []
          },
          "execution_count": 2
        }
      ]
    }
  ]
}