{
  "nbformat": 4,
  "nbformat_minor": 0,
  "metadata": {
    "colab": {
      "name": "72. 최솟값 만들기",
      "provenance": []
    },
    "kernelspec": {
      "name": "python3",
      "display_name": "Python 3"
    }
  },
  "cells": [
    {
      "cell_type": "markdown",
      "metadata": {
        "id": "T2XFtqQhlUAw",
        "colab_type": "text"
      },
      "source": [
        "**72. 최솟값 만들기**\n",
        "\n",
        "길이가 같은 배열 A, B 두개가 있습니다. 각 배열은 자연수로 이루어져 있습니다.\n",
        "배열 A, B에서 각각 한 개의 숫자를 뽑아 두 수를 곱합니다. 이러한 과정을 배열의 길이만큼 반복하며, 두 수를 곱한 값을 누적하여 더합니다. 이때 최종적으로 누적된 값이 최소가 되도록 만드는 것이 목표입니다. (단, 각 배열에서 k번째 숫자를 뽑았다면 다음에 k번째 숫자는 다시 뽑을 수 없습니다.)\n",
        "\n"
      ]
    },
    {
      "cell_type": "code",
      "metadata": {
        "id": "UpcrFY-TlQFt",
        "colab_type": "code",
        "colab": {
          "base_uri": "https://localhost:8080/",
          "height": 70
        },
        "outputId": "28aed6f1-69f9-45dc-b2ca-512e23f4dff2"
      },
      "source": [
        "# 내 코드\n",
        "import time \n",
        "\n",
        "def solution(A, B):\n",
        "    A = sorted(A)\n",
        "    B = sorted(B, reverse=True)\n",
        "    C = list(map(lambda x, y: x * y, A, B))\n",
        "    return sum(C)\n",
        "\n",
        "A = [1, 4, 2]\n",
        "B = [5, 4, 4]\n",
        "solution(A, B)"
      ],
      "execution_count": 9,
      "outputs": [
        {
          "output_type": "stream",
          "text": [
            "29\n",
            "0.0013005733489990234\n"
          ],
          "name": "stdout"
        },
        {
          "output_type": "execute_result",
          "data": {
            "text/plain": [
              "0"
            ]
          },
          "metadata": {
            "tags": []
          },
          "execution_count": 9
        }
      ]
    },
    {
      "cell_type": "code",
      "metadata": {
        "id": "vHt6XKW5l3Hg",
        "colab_type": "code",
        "colab": {
          "base_uri": "https://localhost:8080/",
          "height": 70
        },
        "outputId": "df9efc52-8ee1-4328-9b44-3d6b59faec53"
      },
      "source": [
        "# 더 나은 코드 # 시간 훨씬 빠르다 \n",
        "\n",
        "def getMinSum(A, B):\n",
        "    return sum(a*b for a, b in zip(sorted(A), sorted(B, reverse=True)))\n",
        "\n",
        "A = [1, 4, 2]\n",
        "B = [5, 4, 4]\n",
        "solution(A, B)"
      ],
      "execution_count": 10,
      "outputs": [
        {
          "output_type": "stream",
          "text": [
            "29\n",
            "0.0005452632904052734\n"
          ],
          "name": "stdout"
        },
        {
          "output_type": "execute_result",
          "data": {
            "text/plain": [
              "0"
            ]
          },
          "metadata": {
            "tags": []
          },
          "execution_count": 10
        }
      ]
    }
  ]
}