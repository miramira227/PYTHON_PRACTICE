{
  "nbformat": 4,
  "nbformat_minor": 0,
  "metadata": {
    "colab": {
      "name": "74. 행렬의 곱셈 ",
      "provenance": []
    },
    "kernelspec": {
      "name": "python3",
      "display_name": "Python 3"
    }
  },
  "cells": [
    {
      "cell_type": "markdown",
      "metadata": {
        "id": "T2XFtqQhlUAw",
        "colab_type": "text"
      },
      "source": [
        "**74. 행렬의 곱셈**\n",
        "\n",
        "2차원 행렬 arr1과 arr2를 입력받아, arr1에 arr2를 곱한 결과를 반환하는 함수, solution을 완성해주세요.\n",
        "\n"
      ]
    },
    {
      "cell_type": "code",
      "metadata": {
        "id": "d0A2QjGtkqeQ",
        "colab_type": "code",
        "colab": {
          "base_uri": "https://localhost:8080/",
          "height": 36
        },
        "outputId": "92aba466-5497-485f-fb58-0207add6b36d"
      },
      "source": [
        "# 내 코드 \n",
        "# 으억 i, k, j를 맞추면 된다. 다시 풀어볼 때는 손 말고 머리로 계산하기\n",
        "\n",
        "def solution(arr1, arr2):\n",
        "    answer = []\n",
        "    for i in range(len(arr1)):              # i = 0, 1\n",
        "        sum_list = []\n",
        "        for j in range(len(arr2[0])):          # j = 0, 1\n",
        "            sum = 0\n",
        "            for k in range(len(arr1[0])):           # k = 0, 1, 2\n",
        "                sum += arr1[i][k] * arr2[k][j]              # i, j, k = 0, 2, 1\n",
        "            sum_list.append(sum)\n",
        "        answer.append(sum_list)\n",
        "    return answer \n",
        "\n",
        "arr1 = [[1, 4], [3, 2], [4, 1]]\n",
        "arr2 = [[1, 4], [2, 5], [3, 6]]\n",
        "\n",
        "solution(arr1, arr2)"
      ],
      "execution_count": 2,
      "outputs": [
        {
          "output_type": "execute_result",
          "data": {
            "text/plain": [
              "[[9, 24], [7, 22], [6, 21]]"
            ]
          },
          "metadata": {
            "tags": []
          },
          "execution_count": 2
        }
      ]
    },
    {
      "cell_type": "code",
      "metadata": {
        "id": "vHt6XKW5l3Hg",
        "colab_type": "code",
        "outputId": "bb02876d-4ecf-46e9-e483-16c2dfc0dc63",
        "colab": {
          "base_uri": "https://localhost:8080/",
          "height": 36
        }
      },
      "source": [
        "# 더 나은 코드 \n",
        "# map으로 했는데 구상이 잘 되지 않으면 zip을 이용할 것. \n",
        "# 코드의 행과 열을 변형하여 생각하는 것이 도움됨. \n",
        "# zip(*B): zip 안의 *는 iterable(B)의 elements를 single elements로 변환한다.\n",
        "# 예를 들어, a = [a1, a2, a3]인 경우, zip(*a)는 (('a', 'a', 'a'), ('1', '2', '3'))으로 바뀐다. \n",
        "# 밑의 식은 B의 column별로 나눈 것. \n",
        "\n",
        "def productMatrix(A, B):\n",
        "    return [[sum(a*b for a, b in zip(A_row, B_col)) for B_col in zip(*B)] for A_row in A]\n",
        "\n",
        "arr1 = [[1, 4], [3, 2], [4, 1]]\n",
        "arr2 = [[1, 4], [2, 5], [3, 6]]\n",
        "\n",
        "solution(arr1, arr2)"
      ],
      "execution_count": 3,
      "outputs": [
        {
          "output_type": "execute_result",
          "data": {
            "text/plain": [
              "[[9, 24], [7, 22], [6, 21]]"
            ]
          },
          "metadata": {
            "tags": []
          },
          "execution_count": 3
        }
      ]
    }
  ]
}