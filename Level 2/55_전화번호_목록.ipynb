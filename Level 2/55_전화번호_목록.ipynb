{
  "nbformat": 4,
  "nbformat_minor": 0,
  "metadata": {
    "colab": {
      "name": "55. 전화번호 목록 ",
      "provenance": []
    },
    "kernelspec": {
      "name": "python3",
      "display_name": "Python 3"
    }
  },
  "cells": [
    {
      "cell_type": "markdown",
      "metadata": {
        "id": "YkYFeo2ISdY6",
        "colab_type": "text"
      },
      "source": [
        "**55. 전화번호 목록**\n",
        "\n",
        "전화번호부에 적힌 전화번호 중, 한 번호가 다른 번호의 접두어인 경우가 있는지 확인하려 합니다.\n",
        "전화번호가 다음과 같을 경우, 구조대 전화번호는 영석이의 전화번호의 접두사입니다.\n",
        "\n",
        "* 구조대 : 119\n",
        "\n",
        "* 박준영 : 97 674 223\n",
        "\n",
        "* 지영석 : 11 9552 4421\n",
        "\n",
        "전화번호부에 적힌 전화번호를 담은 배열 phone_book 이 solution 함수의 매개변수로 주어질 때, 어떤 번호가 다른 번호의 접두어인 경우가 있으면 false를 그렇지 않으면 true를 return 하도록 solution 함수를 작성해주세요.\n"
      ]
    },
    {
      "cell_type": "code",
      "metadata": {
        "id": "maomrY1aSU-u",
        "colab_type": "code",
        "outputId": "e9769723-d536-4589-9a03-37b6eca30784",
        "colab": {
          "base_uri": "https://localhost:8080/",
          "height": 34
        }
      },
      "source": [
        "# 내 코드 \n",
        "from itertools import combinations\n",
        "\n",
        "def solution(phone_book):\n",
        "    phone_tuple = combinations(phone_book, 2)\n",
        "    for x in phone_tuple:\n",
        "        if (x[0] in x[1]) or (x[1] in x[0]):\n",
        "            if x[0] == x[1]:\n",
        "                return False\n",
        "    return True\n",
        "\n",
        "phone_book = ['111112', '1112', '12']\n",
        "solution(phone_book)"
      ],
      "execution_count": 3,
      "outputs": [
        {
          "output_type": "execute_result",
          "data": {
            "text/plain": [
              "True"
            ]
          },
          "metadata": {
            "tags": []
          },
          "execution_count": 3
        }
      ]
    },
    {
      "cell_type": "code",
      "metadata": {
        "id": "ljQ13pRRVfp2",
        "colab_type": "code",
        "colab": {
          "base_uri": "https://localhost:8080/",
          "height": 34
        },
        "outputId": "3883e70c-10e9-4e8b-bfe3-1da3ed0f3b2e"
      },
      "source": [
        "# 더 나은 코드 \n",
        "from itertools import combinations as c\n",
        "\n",
        "def solution(phoneBook):\n",
        "    answer = True\n",
        "    sortedPB = sorted(phoneBook, key= len)\n",
        "    for (a,b) in c( sortedPB,2):\n",
        "        if a == b[:len(a)]:\n",
        "            answer = False\n",
        "    return answer\n",
        "\n",
        "phoneBook = ['111112', '1112', '12']\n",
        "solution(phoneBook)"
      ],
      "execution_count": 4,
      "outputs": [
        {
          "output_type": "execute_result",
          "data": {
            "text/plain": [
              "True"
            ]
          },
          "metadata": {
            "tags": []
          },
          "execution_count": 4
        }
      ]
    }
  ]
}