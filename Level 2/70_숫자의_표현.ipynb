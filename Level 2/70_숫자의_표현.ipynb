{
  "nbformat": 4,
  "nbformat_minor": 0,
  "metadata": {
    "colab": {
      "name": "70. 숫자의 표현",
      "provenance": []
    },
    "kernelspec": {
      "name": "python3",
      "display_name": "Python 3"
    }
  },
  "cells": [
    {
      "cell_type": "markdown",
      "metadata": {
        "id": "_K7ctNxgHepj",
        "colab_type": "text"
      },
      "source": [
        "**70. 숫자의 표현**\n",
        "\n",
        "Finn은 요즘 수학공부에 빠져 있습니다. 수학 공부를 하던 Finn은 자연수 n을 연속한 자연수들로 표현 하는 방법이 여러개라는 사실을 알게 되었습니다. 예를들어 15는 다음과 같이 4가지로 표현 할 수 있습니다.\n",
        "\n",
        "1 + 2 + 3 + 4 + 5 = 15\n",
        "\n",
        "4 + 5 + 6 = 15\n",
        "\n",
        "7 + 8 = 15\n",
        "\n",
        "15 = 15\n",
        "\n",
        "자연수 n이 매개변수로 주어질 때, 연속된 자연수들로 n을 표현하는 방법의 수를 return하는 solution를 완성해주세요."
      ]
    },
    {
      "cell_type": "code",
      "metadata": {
        "id": "aMRiKSmIHCK9",
        "colab_type": "code",
        "colab": {
          "base_uri": "https://localhost:8080/",
          "height": 35
        },
        "outputId": "45ebec76-9a9d-45bb-f5e3-3396ce962589"
      },
      "source": [
        "# 내 코드 \n",
        "# 경우를 나눠서 살펴볼 것. 어떤 경우 조건을 만족하는지 관찰할 것 \n",
        "# ex. 짝수 x 짝수의 경우 ex) 4 x 8의 경우 등차수열로 나타낼 수 없었던 반면 3 x 9 는 가능 \n",
        "\n",
        "def solution(n):\n",
        "    odds = []\n",
        "    for i in range(1, n+1):\n",
        "        if n % i == 0:\n",
        "            if i % 2 != 0:\n",
        "                odds.append(i)\n",
        "    return len(odds)\n",
        "\n",
        "solution(27)\n",
        "# 8, 9, 10\n",
        "# 27\n",
        "# 2, 3, 4, 5, 6, 7\n",
        "# 13, 14\n"
      ],
      "execution_count": 7,
      "outputs": [
        {
          "output_type": "execute_result",
          "data": {
            "text/plain": [
              "4"
            ]
          },
          "metadata": {
            "tags": []
          },
          "execution_count": 7
        }
      ]
    },
    {
      "cell_type": "code",
      "metadata": {
        "id": "Y4uFVduZmAss",
        "colab_type": "code",
        "colab": {
          "base_uri": "https://localhost:8080/",
          "height": 35
        },
        "outputId": "c0a4e1a1-c235-46f8-a586-11e23664f62d"
      },
      "source": [
        "# 규칙을 찾지 못했을 때 가장 직관적인 코드\n",
        "\n",
        "def solution(num):\n",
        "    answer = 0\n",
        "    for i in range(1, num+1):\n",
        "        s = 0\n",
        "        while s < num:\n",
        "            s += i\n",
        "            i += 1\n",
        "        if s == num:\n",
        "            answer += 1\n",
        "    return answer \n",
        "\n",
        "solution(15)"
      ],
      "execution_count": 6,
      "outputs": [
        {
          "output_type": "execute_result",
          "data": {
            "text/plain": [
              "4"
            ]
          },
          "metadata": {
            "tags": []
          },
          "execution_count": 6
        }
      ]
    }
  ]
}