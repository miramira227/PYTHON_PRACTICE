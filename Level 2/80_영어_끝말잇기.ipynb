{
  "nbformat": 4,
  "nbformat_minor": 0,
  "metadata": {
    "colab": {
      "name": "80. 영어 끝말잇기 ",
      "provenance": []
    },
    "kernelspec": {
      "name": "python3",
      "display_name": "Python 3"
    }
  },
  "cells": [
    {
      "cell_type": "markdown",
      "metadata": {
        "id": "ZFt6sL6UP775",
        "colab_type": "text"
      },
      "source": [
        "**80. 영어 끝말잇기**\n",
        "\n",
        "1부터 n까지 번호가 붙어있는 n명의 사람이 영어 끝말잇기를 하고 있습니다. 영어 끝말잇기는 다음과 같은 규칙으로 진행됩니다.\n",
        "\n",
        "1. 1번부터 번호 순서대로 한 사람씩 차례대로 단어를 말합니다.\n",
        "\n",
        "2. 마지막 사람이 단어를 말한 다음에는 다시 1번부터 시작합니다.\n",
        "\n",
        "3. 앞사람이 말한 단어의 마지막 문자로 시작하는 단어를 말해야 합니다.\n",
        "\n",
        "4. 이전에 등장했던 단어는 사용할 수 없습니다.\n",
        "\n",
        "5. 한 글자인 단어는 인정되지 않습니다.\n",
        "\n",
        "다음은 3명이 끝말잇기를 하는 상황을 나타냅니다.\n",
        "\n",
        "tank → kick → know → wheel → land → dream → mother → robot → tank\n",
        "\n",
        "위 끝말잇기는 다음과 같이 진행됩니다.\n",
        "\n",
        "1. 1번 사람이 자신의 첫 번째 차례에 tank를 말합니다.\n",
        "\n",
        "2. 2번 사람이 자신의 첫 번째 차례에 kick을 말합니다.\n",
        "\n",
        "3. 3번 사람이 자신의 첫 번째 차례에 know를 말합니다.\n",
        "\n",
        "4. 1번 사람이 자신의 두 번째 차례에 wheel을 말합니다.\n",
        "\n",
        "(계속 진행)\n",
        "\n",
        "끝말잇기를 계속 진행해 나가다 보면, 3번 사람이 자신의 세 번째 차례에 말한 tank 라는 단어는 이전에 등장했던 단어이므로 탈락하게 됩니다.\n",
        "\n",
        "사람의 수 n과 사람들이 순서대로 말한 단어 words 가 매개변수로 주어질 때, 가장 먼저 탈락하는 사람의 번호와 그 사람이 자신의 몇 번째 차례에 탈락하는지를 구해서 return 하도록 solution 함수를 완성해주세요."
      ]
    },
    {
      "cell_type": "code",
      "metadata": {
        "id": "nZUkBgKXJTqk",
        "colab_type": "code",
        "colab": {
          "base_uri": "https://localhost:8080/",
          "height": 35
        },
        "outputId": "a782f1c7-1e05-48b9-9eb4-37114298710c"
      },
      "source": [
        "# 내 코드.. 너무 지저분하다.. \n",
        "\n",
        "from collections import Counter\n",
        "\n",
        "def solution(n, words):\n",
        "    answer1, answer2 = '1' '2'\n",
        "    idx1, idx2 = 60, 60\n",
        "\n",
        "    # words안에 중복되는 word 있는지 확인 \n",
        "    for word, vez in Counter(words).items():\n",
        "        if vez > 1:\n",
        "            answer1 = word \n",
        "            for i in range(len(words)-1, 0, -1):\n",
        "                if words[i] == answer1:\n",
        "                    idx1 = i\n",
        "                    break\n",
        "\n",
        "    # 중복되는 word 없을 경우, 앞뒤 안맞는 애들 확인 \n",
        "    for i in range(1, len(words)):\n",
        "        if words[i][0] != words[i-1][-1]:\n",
        "            answer2 = words[i]\n",
        "            idx2 = words.index(answer2)\n",
        "            break\n",
        "\n",
        "    if answer1 == '1' and answer2 == '2':\n",
        "        return [0, 0]\n",
        "    else:\n",
        "        idx = min(idx1, idx2)\n",
        "        return [idx - n * (idx // n) + 1, idx // n + 1]\n",
        "\n",
        "# n = 2\n",
        "# words = ['hello', 'one', 'even', 'never', 'now', 'world', 'draw']\n",
        "# n = 3\n",
        "# words = ['tank', 'kick', 'know', 'wheel', 'land', 'dream', 'mother', 'robot', 'tank']\n",
        "\n",
        "n = 2\n",
        "words = ['land', 'dream', 'mom', 'mom', 'ror'] \n",
        "solution(n, words)\n"
      ],
      "execution_count": 83,
      "outputs": [
        {
          "output_type": "execute_result",
          "data": {
            "text/plain": [
              "[2, 2]"
            ]
          },
          "metadata": {
            "tags": []
          },
          "execution_count": 83
        }
      ]
    },
    {
      "cell_type": "code",
      "metadata": {
        "id": "yiSfVtZPO-gV",
        "colab_type": "code",
        "colab": {
          "base_uri": "https://localhost:8080/",
          "height": 35
        },
        "outputId": "baeffc12-c53b-4649-9cf1-1de1bb1ee38e"
      },
      "source": [
        "# 정말 빠르고 간단한 코드 \n",
        "# 와.. word[p] in words[:p].. \n",
        "# 비슷한 범위에 있는 애들은 index를 잘 조절해볼 것 \n",
        "\n",
        "def solution(n, words):\n",
        "    for p in range(1, len(words)):\n",
        "        if words[p][0] != words[p-1][-1] or words[p] in words[:p]: return [(p%n)+1, (p//n)+1]\n",
        "    else:\n",
        "        return [0, 0]\n",
        "\n",
        "# n = 2\n",
        "# words = ['land', 'dream', 'mom', 'mom', 'ror'] \n",
        "\n",
        "n = 2\n",
        "words = ['hello', 'one', 'even', 'never', 'now', 'world', 'draw']\n",
        "solution(n, words)"
      ],
      "execution_count": 84,
      "outputs": [
        {
          "output_type": "execute_result",
          "data": {
            "text/plain": [
              "[1, 3]"
            ]
          },
          "metadata": {
            "tags": []
          },
          "execution_count": 84
        }
      ]
    }
  ]
}