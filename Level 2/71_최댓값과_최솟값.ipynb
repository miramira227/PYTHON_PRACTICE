{
  "nbformat": 4,
  "nbformat_minor": 0,
  "metadata": {
    "colab": {
      "name": "71. 최댓값과 최솟값",
      "provenance": []
    },
    "kernelspec": {
      "name": "python3",
      "display_name": "Python 3"
    }
  },
  "cells": [
    {
      "cell_type": "markdown",
      "metadata": {
        "id": "T2XFtqQhlUAw",
        "colab_type": "text"
      },
      "source": [
        "**71. 최댓값과 최솟값**\n",
        "\n",
        "문자열 s에는 공백으로 구분된 숫자들이 저장되어 있습니다. str에 나타나는 숫자 중 최소값과 최대값을 찾아 이를 (최소값) (최대값)형태의 문자열을 반환하는 함수, solution을 완성하세요.\n",
        "예를들어 s가 1 2 3 4라면 1 4를 리턴하고, -1 -2 -3 -4라면 -4 -1을 리턴하면 됩니다."
      ]
    },
    {
      "cell_type": "code",
      "metadata": {
        "id": "UpcrFY-TlQFt",
        "colab_type": "code",
        "colab": {
          "base_uri": "https://localhost:8080/",
          "height": 35
        },
        "outputId": "7b6324d2-c95c-4a34-f37e-8c190b617a50"
      },
      "source": [
        "# 내 코드\n",
        "\n",
        "def solution(s):\n",
        "    s_split = s.split(' ')\n",
        "    int_list = list(map(int, s_split))\n",
        "    c = []\n",
        "    c.append(min(int_list))\n",
        "    c.append(max(int_list))\n",
        "    str_list = list(map(str, c))\n",
        "    answer = ' '.join(str_list)\n",
        "    return answer\n",
        "\n",
        "s = '1 2 3 4'\n",
        "solution(s)"
      ],
      "execution_count": 3,
      "outputs": [
        {
          "output_type": "execute_result",
          "data": {
            "text/plain": [
              "'1 4'"
            ]
          },
          "metadata": {
            "tags": []
          },
          "execution_count": 3
        }
      ]
    },
    {
      "cell_type": "code",
      "metadata": {
        "id": "vHt6XKW5l3Hg",
        "colab_type": "code",
        "colab": {
          "base_uri": "https://localhost:8080/",
          "height": 35
        },
        "outputId": "b63df7db-df14-4b98-bedb-70b5ef2a737d"
      },
      "source": [
        "# 더 나은 코드 \n",
        "\n",
        "def solution(s):\n",
        "    s = list(map(int, s.split()))\n",
        "    return str(min(s)) + \" \" + str(max(s))\n",
        "\n",
        "s = '1 2 3 4'\n",
        "solution(s)"
      ],
      "execution_count": 2,
      "outputs": [
        {
          "output_type": "execute_result",
          "data": {
            "text/plain": [
              "'1 4'"
            ]
          },
          "metadata": {
            "tags": []
          },
          "execution_count": 2
        }
      ]
    }
  ]
}