{
  "nbformat": 4,
  "nbformat_minor": 0,
  "metadata": {
    "colab": {
      "name": "57. 구명보트 ",
      "provenance": []
    },
    "kernelspec": {
      "name": "python3",
      "display_name": "Python 3"
    }
  },
  "cells": [
    {
      "cell_type": "markdown",
      "metadata": {
        "id": "x0UE0w2NeEPv",
        "colab_type": "text"
      },
      "source": [
        "**57. 구명보트**\n",
        "\n",
        "무인도에 갇힌 사람들을 구명보트를 이용하여 구출하려고 합니다. 구명보트는 작아서 한 번에 최대 2명씩 밖에 탈 수 없고, 무게 제한도 있습니다.\n",
        "\n",
        "예를 들어, 사람들의 몸무게가 [70kg, 50kg, 80kg, 50kg]이고 구명보트의 무게 제한이 100kg이라면 2번째 사람과 4번째 사람은 같이 탈 수 있지만 1번째 사람과 3번째 사람의 무게의 합은 150kg이므로 구명보트의 무게 제한을 초과하여 같이 탈 수 없습니다.\n",
        "\n",
        "구명보트를 최대한 적게 사용하여 모든 사람을 구출하려고 합니다.\n",
        "\n",
        "사람들의 몸무게를 담은 배열 people과 구명보트의 무게 제한 limit가 매개변수로 주어질 때, 모든 사람을 구출하기 위해 필요한 구명보트 개수의 최솟값을 return 하도록 solution 함수를 작성해주세요."
      ]
    },
    {
      "cell_type": "code",
      "metadata": {
        "id": "eH692mh9eA2w",
        "colab_type": "code",
        "outputId": "7b2d8b6c-3b08-474c-bbce-18575b30ac0d",
        "colab": {
          "base_uri": "https://localhost:8080/",
          "height": 34
        }
      },
      "source": [
        "# 내 코드 (pop(0)을 사용할 경우 앞에서부터 하나씩 당겨야하기 때문에 O(n)이라 pop말고 index로 풀이하기!)\n",
        "\n",
        "def solution(people, limit):\n",
        "    count = 0\n",
        "    people.sort()                           # 30, 30, 40, 40\n",
        "    i, j = 0, len(people)-1                  # 50, 70, 80\n",
        "    while i < j:\n",
        "        if people[i] + people[j] <= limit:\n",
        "            count += 1\n",
        "            i += 1\n",
        "            j -= 1\n",
        "        else:\n",
        "            count += 1\n",
        "            j -= 1\n",
        "    if i == j:\n",
        "        return count + 1\n",
        "    else:\n",
        "        return count \n",
        "        \n",
        "\n",
        "people = [70, 80, 50]\n",
        "limit = 100\n",
        "solution(people, limit)\n"
      ],
      "execution_count": 3,
      "outputs": [
        {
          "output_type": "execute_result",
          "data": {
            "text/plain": [
              "3"
            ]
          },
          "metadata": {
            "tags": []
          },
          "execution_count": 3
        }
      ]
    },
    {
      "cell_type": "code",
      "metadata": {
        "id": "7XWiPmkjgDq7",
        "colab_type": "code",
        "outputId": "e20a714c-718e-41db-cdc7-8b91e6b1a260",
        "colab": {
          "base_uri": "https://localhost:8080/",
          "height": 34
        }
      },
      "source": [
        "# collections.deque 사용하기  # 하지만 위 코드가 더 좋음 \n",
        "from collections import deque \n",
        "\n",
        "def solution(people, limit):\n",
        "    count = 0\n",
        "    people.sort()\n",
        "    people = deque(people)      # people의 object type = list가 아닌 deque \n",
        "\n",
        "    while len(people) > 0:\n",
        "        if len(people) == 1:\n",
        "            return count + 1\n",
        "        else:\n",
        "            if people[0] + people.pop() <= limit:\n",
        "                people.popleft()            # people.pop(0)을 할 경우와는 시간복잡도가 다르게 나온다 \n",
        "            else:\n",
        "                pass\n",
        "            count += 1\n",
        "    return count \n",
        "\n",
        "people = [70, 50, 80, 50]\n",
        "limit = 100\n",
        "solution(people, limit)        \n",
        "\n"
      ],
      "execution_count": 7,
      "outputs": [
        {
          "output_type": "execute_result",
          "data": {
            "text/plain": [
              "3"
            ]
          },
          "metadata": {
            "tags": []
          },
          "execution_count": 7
        }
      ]
    }
  ]
}