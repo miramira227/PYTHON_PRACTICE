{
  "nbformat": 4,
  "nbformat_minor": 0,
  "metadata": {
    "colab": {
      "name": "49. 괄호 변환",
      "provenance": []
    },
    "kernelspec": {
      "name": "python3",
      "display_name": "Python 3"
    }
  },
  "cells": [
    {
      "cell_type": "markdown",
      "metadata": {
        "id": "dUPrRqdbvuOb",
        "colab_type": "text"
      },
      "source": [
        "**49. 괄호 변환**\n",
        "\n",
        "'(' 와 ')' 로만 이루어진 문자열이 있을 경우, '(' 의 개수와 ')' 의 개수가 같다면 이를 균형잡힌 괄호 문자열이라고 부릅니다.\n",
        "그리고 여기에 '('와 ')'의 괄호의 짝도 모두 맞을 경우에는 이를 올바른 괄호 문자열이라고 부릅니다.\n",
        "예를 들어, \"(()))(\"와 같은 문자열은 균형잡힌 괄호 문자열 이지만 올바른 괄호 문자열은 아닙니다.\n",
        "반면에 \"(())()\"와 같은 문자열은 균형잡힌 괄호 문자열 이면서 동시에 올바른 괄호 문자열 입니다.\n",
        "\n",
        "'(' 와 ')' 로만 이루어진 문자열 w가 균형잡힌 괄호 문자열 이라면 다음과 같은 과정을 통해 올바른 괄호 문자열로 변환할 수 있습니다.\n",
        "\n",
        "1. 입력이 빈 문자열인 경우, 빈 문자열을 반환합니다. \n",
        "2. 문자열 w를 두 \"균형잡힌 괄호 문자열\" u, v로 분리합니다. 단, u는 \"균형잡힌 괄호 문자열\"로 더 이상 분리할 수 없어야 하며, v는 빈 문자열이 될 수 있습니다. \n",
        "3. 문자열 u가 \"올바른 괄호 문자열\" 이라면 문자열 v에 대해 1단계부터 다시 수행합니다. \n",
        "  3-1. 수행한 결과 문자열을 u에 이어 붙인 후 반환합니다. \n",
        "4. 문자열 u가 \"올바른 괄호 문자열\"이 아니라면 아래 과정을 수행합니다. \n",
        "  4-1. 빈 문자열에 첫 번째 문자로 '('를 붙입니다. \n",
        "  4-2. 문자열 v에 대해 1단계부터 재귀적으로 수행한 결과 문자열을 이어 붙입니다. \n",
        "  4-3. ')'를 다시 붙입니다. \n",
        "  4-4. u의 첫 번째와 마지막 문자를 제거하고, 나머지 문자열의 괄호 방향을 뒤집어서 뒤에 붙입니다. \n",
        "  4-5. 생성된 문자열을 반환합니다.\n",
        "균형잡힌 괄호 문자열 p가 매개변수로 주어질 때, 주어진 알고리즘을 수행해 올바른 괄호 문자열로 변환한 결과를 return 하도록 solution 함수를 완성해 주세요.\n"
      ]
    },
    {
      "cell_type": "code",
      "metadata": {
        "id": "Wfu20hAUWk9G",
        "colab_type": "code",
        "colab": {
          "base_uri": "https://localhost:8080/",
          "height": 34
        },
        "outputId": "2df3fcb8-10fa-4aab-d633-2b29222f7ccf"
      },
      "source": [
        "def judge(u, v):            # 올바르지 않은 문자열을 올바르게 바꿔준다. \n",
        "    if u[0] != '(' or u[-1] != ')':\n",
        "        if v == None:\n",
        "            old = '()'\n",
        "        else:\n",
        "            old = '('+v+')'\n",
        "        if len(u[1:-1]) > 0:\n",
        "            new = list(map(lambda x: '(' if x != '(' else ')', u[1:-1]))\n",
        "            new = ''.join(new)\n",
        "            return old + new \n",
        "        else: \n",
        "            return old\n",
        "    else:\n",
        "        if v == None:\n",
        "            return u\n",
        "        else:\n",
        "            return u + v\n",
        "\n",
        "def solution(p):            \n",
        "    left = '('\n",
        "    left_num = 0\n",
        "    right = ')'\n",
        "    right_num = 0\n",
        "    for i in range(len(p)):\n",
        "        if len(p) == 0:\n",
        "            return ''\n",
        "        if p[i] == left:\n",
        "            left_num += 1\n",
        "        elif p[i] == right:\n",
        "            right_num += 1\n",
        "        if left_num == right_num:\n",
        "            u = p[:i+1]\n",
        "            v = p[i+1:]\n",
        "            return judge(u, solution(v))      # u를 내뱉음 \n",
        "\n",
        "p = '()))((()'\n",
        "\n",
        "solution(p)"
      ],
      "execution_count": 127,
      "outputs": [
        {
          "output_type": "execute_result",
          "data": {
            "text/plain": [
              "'()(())()'"
            ]
          },
          "metadata": {
            "tags": []
          },
          "execution_count": 127
        }
      ]
    },
    {
      "cell_type": "code",
      "metadata": {
        "id": "WKnnnCU6Yvmr",
        "colab_type": "code",
        "colab": {
          "base_uri": "https://localhost:8080/",
          "height": 87
        },
        "outputId": "6b36c0c2-e97c-4d1f-d6ef-2426537df160"
      },
      "source": [
        "# 더 나은 풀이 이렇게 정갈하게 풀자..! \n",
        "\n",
        "# if \"균형잡힌 괄호 문자열\", then return True\n",
        "def isBanlancedString(str):\n",
        "    return str.count('(') == str.count(')')\n",
        "\n",
        "# if \"올바른 괄호 문자열\", then return True\n",
        "def isCorrectString(str):\n",
        "    count = 0\n",
        "    for s in str:\n",
        "        if s == '(':\n",
        "            count += 1\n",
        "        else: # ')'\n",
        "            count -= 1\n",
        "        if count < 0:\n",
        "            return False\n",
        "    return count == 0\n",
        "\n",
        "def process(str):\n",
        "    # 1. 입력이 빈 문자열인 경우, 빈 문자열을 반환합니다.\n",
        "    if str == \"\":\n",
        "        return \"\"\n",
        "    # 2. 문자열 w를 두 \"균형잡힌 괄호 문자열\" u, v로 분리합니다. 단, u는 \"균형잡힌 괄호 문자열\"로 더 이상 분리할 수 없어야 하며, v는 빈 문자열이 될 수 있습니다.\n",
        "    u, v = splitUV(str)\n",
        "    print(u, v)\n",
        "    # 3. 문자열 u가 \"올바른 괄호 문자열\" 이라면 문자열 v에 대해 1단계부터 다시 수행합니다.\n",
        "    #   3-1. 수행한 결과 문자열을 u에 이어 붙인 후 반환합니다.\n",
        "    if isCorrectString(u):\n",
        "        u += process(v)\n",
        "        return u\n",
        "    else: # 4. 문자열 u가 \"올바른 괄호 문자열\"이 아니라면 아래 과정을 수행합니다.\n",
        "    #   4-1. 빈 문자열에 첫 번째 문자로 '('를 붙입니다.\n",
        "        newStr = \"(\"\n",
        "    #   4-2. 문자열 v에 대해 1단계부터 재귀적으로 수행한 결과 문자열을 이어 붙입니다.\n",
        "        newStr += process(v)\n",
        "    #   4-3. ')'를 다시 붙입니다.\n",
        "        newStr += \")\"\n",
        "    #   4-4. u의 첫 번째와 마지막 문자를 제거하고, 나머지 문자열의 괄호 방향을 뒤집어서 뒤에 붙입니다.\n",
        "        if len(u) > 0:\n",
        "            newStr += reverseStr(u[1:-1])\n",
        "    #   4-5. 생성된 문자열을 반환합니다.\n",
        "        return newStr\n",
        "\n",
        "def reverseStr(str):\n",
        "    ans = \"\"\n",
        "    for s in str:\n",
        "        if s == \"(\":\n",
        "            ans += \")\"\n",
        "        else:\n",
        "            ans += \"(\"\n",
        "    return ans\n",
        "\n",
        "# 2. 문자열 w를 두 \"균형잡힌 괄호 문자열\" u, v로 분리합니다. 단, u는 \"균형잡힌 괄호 문자열\"로 더 이상 분리할 수 없어야 하며, v는 빈 문자열이 될 수 있습니다.\n",
        "def splitUV(str):\n",
        "    u, v = str, \"\"\n",
        "    for i in range(2, len(str), 2):\n",
        "        if isBanlancedString(str[:i]):\n",
        "            u = str[:i]\n",
        "            v = str[i:]\n",
        "            break\n",
        "    return u, v\n",
        "\n",
        "def solution(p):\n",
        "    p = p.strip()\n",
        "\n",
        "    if isCorrectString(p): # 이미 올바른 괄호 문자열이라면 그대로 return\n",
        "        return p\n",
        "\n",
        "    return process(p)\n",
        "\n",
        "p = '()))((()'\n",
        "\n",
        "solution(p)\n"
      ],
      "execution_count": 128,
      "outputs": [
        {
          "output_type": "stream",
          "text": [
            "() ))((()\n",
            "))(( ()\n",
            "() \n"
          ],
          "name": "stdout"
        },
        {
          "output_type": "execute_result",
          "data": {
            "text/plain": [
              "'()(())()'"
            ]
          },
          "metadata": {
            "tags": []
          },
          "execution_count": 128
        }
      ]
    }
  ]
}