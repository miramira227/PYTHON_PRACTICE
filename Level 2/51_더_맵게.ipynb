{
  "nbformat": 4,
  "nbformat_minor": 0,
  "metadata": {
    "colab": {
      "name": "51. 더 맵게",
      "provenance": []
    },
    "kernelspec": {
      "name": "python3",
      "display_name": "Python 3"
    }
  },
  "cells": [
    {
      "cell_type": "markdown",
      "metadata": {
        "id": "iHmB6B-0Y4ze",
        "colab_type": "text"
      },
      "source": [
        "**51. 더 맵게**\n",
        "\n",
        "매운 것을 좋아하는 Leo는 모든 음식의 스코빌 지수를 K 이상으로 만들고 싶습니다. 모든 음식의 스코빌 지수를 K 이상으로 만들기 위해 Leo는 스코빌 지수가 가장 낮은 두 개의 음식을 아래와 같이 특별한 방법으로 섞어 새로운 음식을 만듭니다.\n",
        "\n",
        "`섞은 음식의 스코빌 지수 = 가장 맵지 않은 음식의 스코빌 지수 + (두 번째로 맵지 않은 음식의 스코빌 지수 * 2)\n",
        "`\n",
        "\n",
        "Leo는 모든 음식의 스코빌 지수가 K 이상이 될 때까지 반복하여 섞습니다.\n",
        "Leo가 가진 음식의 스코빌 지수를 담은 배열 scoville과 원하는 스코빌 지수 K가 주어질 때, 모든 음식의 스코빌 지수를 K 이상으로 만들기 위해 섞어야 하는 최소 횟수를 return 하도록 solution 함수를 작성해주세요."
      ]
    },
    {
      "cell_type": "code",
      "metadata": {
        "id": "nO1Ltoc9Xw7d",
        "colab_type": "code",
        "outputId": "f903d803-373e-45c4-9b0e-9cb7832a0b65",
        "colab": {
          "base_uri": "https://localhost:8080/",
          "height": 34
        }
      },
      "source": [
        "# 내 코드 (효율성 낮음)\n",
        "\n",
        "def solution(scoville, K):\n",
        "    count = 0\n",
        "    while scoville[0] < K:\n",
        "        scoville.sort()     # 효율성 떨어진다 \n",
        "        try:\n",
        "            scoville.append(scoville.pop(0) + scoville.pop(0) * 2)\n",
        "        except IndexError:\n",
        "            return -1 \n",
        "        count += 1     \n",
        "    return count\n",
        "\n",
        "scoville = [3, 3, 3, 3, 3, 3, 3]\n",
        "K = 100\n",
        "\n",
        "solution(scoville, K)"
      ],
      "execution_count": 3,
      "outputs": [
        {
          "output_type": "execute_result",
          "data": {
            "text/plain": [
              "-1"
            ]
          },
          "metadata": {
            "tags": []
          },
          "execution_count": 3
        }
      ]
    },
    {
      "cell_type": "code",
      "metadata": {
        "id": "K91l82UpDsnZ",
        "colab_type": "code",
        "colab": {
          "base_uri": "https://localhost:8080/",
          "height": 34
        },
        "outputId": "42ecbef2-3773-4bf6-ff49-5219e4459203"
      },
      "source": [
        "# 모범 답안 : 정렬은 heapq 모듈 import해서 해결하기 \n",
        "\n",
        "import heapq\n",
        "\n",
        "def solution(scoville, K):\n",
        "    heapq.heapify(scoville)\n",
        "    count = 0\n",
        "    while scoville[0] < K:\n",
        "        try: \n",
        "            heapq.heappush(scoville, heapq.heappop(scoville) + heapq.heappop(scoville) * 2)\n",
        "        except IndexError:\n",
        "            return -1\n",
        "        count += 1\n",
        "    return count \n",
        "\n",
        "scoville = [3, 3, 3, 3, 3, 3, 3]\n",
        "K = 100\n",
        "\n",
        "solution(scoville, K)"
      ],
      "execution_count": 10,
      "outputs": [
        {
          "output_type": "execute_result",
          "data": {
            "text/plain": [
              "-1"
            ]
          },
          "metadata": {
            "tags": []
          },
          "execution_count": 10
        }
      ]
    }
  ]
}