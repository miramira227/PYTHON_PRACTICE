{
  "nbformat": 4,
  "nbformat_minor": 0,
  "metadata": {
    "colab": {
      "name": "79. 점프와 순간 이동 ",
      "provenance": []
    },
    "kernelspec": {
      "name": "python3",
      "display_name": "Python 3"
    }
  },
  "cells": [
    {
      "cell_type": "markdown",
      "metadata": {
        "id": "ZFt6sL6UP775",
        "colab_type": "text"
      },
      "source": [
        "**79. 점프와 순간 이동**\n",
        "\n",
        "OO 연구소는 한 번에 K 칸을 앞으로 점프하거나, (현재까지 온 거리) x 2 에 해당하는 위치로 순간이동을 할 수 있는 특수한 기능을 가진 아이언 슈트를 개발하여 판매하고 있습니다. 이 아이언 슈트는 건전지로 작동되는데, 순간이동을 하면 건전지 사용량이 줄지 않지만, 앞으로 K 칸을 점프하면 K 만큼의 건전지 사용량이 듭니다. 그러므로 아이언 슈트를 착용하고 이동할 때는 순간 이동을 하는 것이 더 효율적입니다. 아이언 슈트 구매자는 아이언 슈트를 착용하고 거리가 N 만큼 떨어져 있는 장소로 가려고 합니다. 단, 건전지 사용량을 줄이기 위해 점프로 이동하는 것은 최소로 하려고 합니다. 아이언 슈트 구매자가 이동하려는 거리 N이 주어졌을 때, 사용해야 하는 건전지 사용량의 최솟값을 return하는 solution 함수를 만들어 주세요."
      ]
    },
    {
      "cell_type": "code",
      "metadata": {
        "id": "nZUkBgKXJTqk",
        "colab_type": "code",
        "colab": {
          "base_uri": "https://localhost:8080/",
          "height": 36
        },
        "outputId": "73398ea2-4c4d-445d-dc88-b3d0fd7f99a1"
      },
      "source": [
        "# 내 코드 \n",
        "def solution(n):\n",
        "    i = 1\n",
        "    while n > 1:\n",
        "        if n % 2 != 0:\n",
        "            i += 1\n",
        "        n = n // 2\n",
        "    return i\n",
        "\n",
        "solution(5000)"
      ],
      "execution_count": 18,
      "outputs": [
        {
          "output_type": "execute_result",
          "data": {
            "text/plain": [
              "5"
            ]
          },
          "metadata": {
            "tags": []
          },
          "execution_count": 18
        }
      ]
    },
    {
      "cell_type": "code",
      "metadata": {
        "id": "GC_X_5DGOnEN",
        "colab_type": "code",
        "colab": {
          "base_uri": "https://localhost:8080/",
          "height": 36
        },
        "outputId": "87f7be59-eb6e-4d46-dd40-0be2c686e69b"
      },
      "source": [
        "# 나머지를 활용 \n",
        "def solution(n):\n",
        "    answer = 1\n",
        "    while n > 1:\n",
        "        answer += n % 2 \n",
        "        n = n // 2\n",
        "    return answer \n",
        "\n",
        "solution(5000)"
      ],
      "execution_count": 20,
      "outputs": [
        {
          "output_type": "execute_result",
          "data": {
            "text/plain": [
              "5"
            ]
          },
          "metadata": {
            "tags": []
          },
          "execution_count": 20
        }
      ]
    },
    {
      "cell_type": "code",
      "metadata": {
        "id": "yiSfVtZPO-gV",
        "colab_type": "code",
        "colab": {
          "base_uri": "https://localhost:8080/",
          "height": 36
        },
        "outputId": "a5652f62-9b01-46c1-973a-bd88a544e940"
      },
      "source": [
        "# binary로 활용 \n",
        "def solution(n):\n",
        "    return bin(n).count('1')\n",
        "\n",
        "solution(5000)"
      ],
      "execution_count": 27,
      "outputs": [
        {
          "output_type": "execute_result",
          "data": {
            "text/plain": [
              "5"
            ]
          },
          "metadata": {
            "tags": []
          },
          "execution_count": 27
        }
      ]
    }
  ]
}