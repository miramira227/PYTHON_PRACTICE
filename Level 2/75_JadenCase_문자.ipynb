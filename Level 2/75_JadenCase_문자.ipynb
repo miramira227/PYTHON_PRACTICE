{
  "nbformat": 4,
  "nbformat_minor": 0,
  "metadata": {
    "colab": {
      "name": "75. JadenCase 문자",
      "provenance": []
    },
    "kernelspec": {
      "name": "python3",
      "display_name": "Python 3"
    }
  },
  "cells": [
    {
      "cell_type": "markdown",
      "metadata": {
        "id": "T2XFtqQhlUAw",
        "colab_type": "text"
      },
      "source": [
        "**75. JadenCase 문자**\n",
        "\n",
        "JadenCase란 모든 단어의 첫 문자가 대문자이고, 그 외의 알파벳은 소문자인 문자열입니다. 문자열 s가 주어졌을 때, s를 JadenCase로 바꾼 문자열을 리턴하는 함수, solution을 완성해주세요.\n",
        "\n"
      ]
    },
    {
      "cell_type": "code",
      "metadata": {
        "id": "Zzoyy-CkGBL7",
        "colab_type": "code",
        "outputId": "dcec7ec6-278a-4e1e-aaba-11bd0a93f6eb",
        "colab": {
          "base_uri": "https://localhost:8080/",
          "height": 36
        }
      },
      "source": [
        "# 내 코드 \n",
        "\n",
        "def Jaden(x):\n",
        "    s = list(x)\n",
        "    for i in range(len(s)):\n",
        "        s[i] = s[i].upper() if i == 0 else s[i].lower()\n",
        "    return ''.join(s)\n",
        "\n",
        "def solution(s):\n",
        "    splitted_words = s.split(' ')\n",
        "    answer = list(map(lambda x : Jaden(x), splitted_words))\n",
        "    answer = ' '.join(answer)\n",
        "    return answer\n",
        "\n",
        "s = 'asda sdfa'\n",
        "solution(s)"
      ],
      "execution_count": 43,
      "outputs": [
        {
          "output_type": "execute_result",
          "data": {
            "text/plain": [
              "'Asda Sdfa'"
            ]
          },
          "metadata": {
            "tags": []
          },
          "execution_count": 43
        }
      ]
    },
    {
      "cell_type": "code",
      "metadata": {
        "id": "kz6KNwlnOaG8",
        "colab_type": "code",
        "colab": {
          "base_uri": "https://localhost:8080/",
          "height": 36
        },
        "outputId": "252101ff-a68f-4359-ae02-866ff697374d"
      },
      "source": [
        "# 더 나은 코드 (내장함수 사용)  \n",
        "# lower(): 전체 lower, # title(): title만 대문자로 \n",
        "\n",
        "def Jaden_Case(s):\n",
        "    splitted_words = s.split(' ')\n",
        "    answer = list(map(lambda x: x.lower().title(), splitted_words))\n",
        "    return answer \n",
        "\n",
        "s = 'asda sdfa'\n",
        "solution(s)"
      ],
      "execution_count": 44,
      "outputs": [
        {
          "output_type": "execute_result",
          "data": {
            "text/plain": [
              "'Asda Sdfa'"
            ]
          },
          "metadata": {
            "tags": []
          },
          "execution_count": 44
        }
      ]
    }
  ]
}