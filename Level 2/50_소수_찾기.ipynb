{
  "nbformat": 4,
  "nbformat_minor": 0,
  "metadata": {
    "colab": {
      "name": "50. 소수 찾기",
      "provenance": []
    },
    "kernelspec": {
      "name": "python3",
      "display_name": "Python 3"
    }
  },
  "cells": [
    {
      "cell_type": "markdown",
      "metadata": {
        "id": "Har4edSf-6HF",
        "colab_type": "text"
      },
      "source": [
        "**50. 소수 찾기**\n",
        "\n",
        "한자리 숫자가 적힌 종이 조각이 흩어져있습니다. 흩어진 종이 조각을 붙여 소수를 몇 개 만들 수 있는지 알아내려 합니다.\n",
        "\n",
        "각 종이 조각에 적힌 숫자가 적힌 문자열 numbers가 주어졌을 때, 종이 조각으로 만들 수 있는 소수가 몇 개인지 return 하도록 solution 함수를 완성해주세요.\n"
      ]
    },
    {
      "cell_type": "code",
      "metadata": {
        "id": "CQZMk5Qp-3KN",
        "colab_type": "code",
        "colab": {
          "base_uri": "https://localhost:8080/",
          "height": 36
        },
        "outputId": "00e4503c-7790-45f4-e8bd-2ed08c40805d"
      },
      "source": [
        "# 내 코드 \n",
        "\n",
        "def prime_(num, numbers):\n",
        "    prime_number = []\n",
        "    for i in num:           \n",
        "        real = str(i)       \n",
        "        for j in numbers:   \n",
        "            inside = str(j)     \n",
        "            if inside in real:      \n",
        "                idx = real.index(inside)\n",
        "                real = real[:idx] + real[idx+1:]\n",
        "            if len(real) == 0:\n",
        "                prime_number.append(i)\n",
        "                break\n",
        "    return prime_number\n",
        "\n",
        "def solution(n):\n",
        "    numbers_ = list(map(int, n))\n",
        "    sorted_numbers_list = sorted(numbers_, reverse=True)\n",
        "    sorted_numbers = int(''.join(list(map(str, sorted_numbers_list))))\n",
        "    \n",
        "    num = set(range(2, sorted_numbers+1))\n",
        "    for i in range(2, sorted_numbers+1):\n",
        "        if i in num:\n",
        "            num -= set(range(2*i, sorted_numbers+1, i))\n",
        "\n",
        "    num = sorted(list(num))\n",
        "    answer = prime_(num, numbers_)\n",
        "\n",
        "    return len(answer)\n",
        "\n",
        "numbers = '779'\n",
        "solution(numbers)\n"
      ],
      "execution_count": 86,
      "outputs": [
        {
          "output_type": "execute_result",
          "data": {
            "text/plain": [
              "5"
            ]
          },
          "metadata": {
            "tags": []
          },
          "execution_count": 86
        }
      ]
    },
    {
      "cell_type": "code",
      "metadata": {
        "id": "Wyjf7i2YFzdm",
        "colab_type": "code",
        "colab": {
          "base_uri": "https://localhost:8080/",
          "height": 36
        },
        "outputId": "bea3856b-18b7-4d48-b726-221a8c14f1e9"
      },
      "source": [
        "# 더 나은 코드 1. 모듈 사용 \n",
        "from itertools import permutations \n",
        "\n",
        "def solution(n):\n",
        "    a = set()\n",
        "    for i in range(len(n)):\n",
        "        a |= set(map(int, map(\"\".join, permutations(list(n), i+1))))\n",
        "    a -= set(range(0, 2))\n",
        "    for i in range(2, int(max(a) ** 0.5) +1):\n",
        "        a -= set(range(i * 2, max(a) + 1, i))\n",
        "    return len(a)\n",
        "\n",
        "numbers = '779'\n",
        "solution(numbers)\n"
      ],
      "execution_count": 87,
      "outputs": [
        {
          "output_type": "execute_result",
          "data": {
            "text/plain": [
              "5"
            ]
          },
          "metadata": {
            "tags": []
          },
          "execution_count": 87
        }
      ]
    },
    {
      "cell_type": "code",
      "metadata": {
        "id": "hOYZuY5uJazG",
        "colab_type": "code",
        "colab": {
          "base_uri": "https://localhost:8080/",
          "height": 36
        },
        "outputId": "6aa3e157-34e7-4707-d818-e0cecfedcfde"
      },
      "source": [
        "# 뭔가 복잡하고 길게 풀었지만 이해하면 좋은 코드 \n",
        "\n",
        "def isPrimeNumber(number):\n",
        "    if number <= 1:\n",
        "        return False\n",
        "    else:\n",
        "        for i in range(2, number // 2 + 1):\n",
        "            if number % i == 0:\n",
        "                return False\n",
        "        return True\n",
        "\n",
        "def getAllCombination(numbers, numList, leftCipher):\n",
        "    '''\n",
        "    numbers : 총 숫자카드 list\n",
        "    numList : 가능한 숫자 배열 list\n",
        "    leftCipher : 남은 자릿수\n",
        "    '''\n",
        "\n",
        "    # 현재 가능한 숫자 배열 list를 기준으로 추가가 가능한 숫자들은 찾는다. \n",
        "    newNumList = [[]]\n",
        "    for li in numList:\n",
        "        for i in numbers:\n",
        "            if i in li and li.count(i) <= numbers.count(i) - 1:\n",
        "                tmp = li[:]\n",
        "                tmp.append(i)\n",
        "                newNumList.append(tmp)\n",
        "            if i not in li:\n",
        "                tmp = li[:]\n",
        "                tmp.append(i)\n",
        "                newNumList.append(tmp)\n",
        "\n",
        "    leftCipher -= 1\n",
        "\n",
        "    if leftCipher == 0:\n",
        "        return newNumList\n",
        "    else:\n",
        "        return getAllCombination(numbers, newNumList, leftCipher)\n",
        "\n",
        "def removeFirstZero(numList):\n",
        "    for i, num in enumerate(numList):\n",
        "        firstNumIsZero = bool()\n",
        "\n",
        "        while True:\n",
        "            if len(num) >= 2 and num[0] == '0':\n",
        "                firstNumIsZero = True\n",
        "            else:\n",
        "                numList[i] = num\n",
        "                break\n",
        "\n",
        "            num = num[1:]\n",
        "\n",
        "def getUnique2DList(numList):\n",
        "    for i, val in enumerate(numList):\n",
        "        tmp = str()\n",
        "        for char in val:\n",
        "            tmp += char\n",
        "        numList[i] = tmp\n",
        "\n",
        "    newList = list(set(numList))\n",
        "    return newList\n",
        "\n",
        "def solution(numbers):    \n",
        "    availableAnswer = getAllCombination(numbers, [[]], len(numbers))\n",
        "    del availableAnswer[0]\n",
        "    removeFirstZero(availableAnswer)\n",
        "    availableAnswer = getUnique2DList(availableAnswer)\n",
        "\n",
        "    answer = 0\n",
        "    for val in availableAnswer:\n",
        "        if isPrimeNumber(int(val)):\n",
        "            # print(val)\n",
        "            answer += 1\n",
        "\n",
        "    return answer\n",
        "\n",
        "solution(numbers)\n"
      ],
      "execution_count": 91,
      "outputs": [
        {
          "output_type": "execute_result",
          "data": {
            "text/plain": [
              "5"
            ]
          },
          "metadata": {
            "tags": []
          },
          "execution_count": 91
        }
      ]
    }
  ]
}