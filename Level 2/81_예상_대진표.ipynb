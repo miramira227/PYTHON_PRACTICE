{
  "nbformat": 4,
  "nbformat_minor": 0,
  "metadata": {
    "colab": {
      "name": "81. 예상 대진표",
      "provenance": []
    },
    "kernelspec": {
      "name": "python3",
      "display_name": "Python 3"
    }
  },
  "cells": [
    {
      "cell_type": "markdown",
      "metadata": {
        "id": "kfM9f9AoYIrR",
        "colab_type": "text"
      },
      "source": [
        "**81. 예상 대진표**\n",
        "\n",
        "△△ 게임대회가 개최되었습니다. 이 대회는 N명이 참가하고, 토너먼트 형식으로 진행됩니다. N명의 참가자는 각각 1부터 N번을 차례대로 배정받습니다. 그리고, 1번↔2번, 3번↔4번, ... , N-1번↔N번의 참가자끼리 게임을 진행합니다. 각 게임에서 이긴 사람은 다음 라운드에 진출할 수 있습니다. 이때, 다음 라운드에 진출할 참가자의 번호는 다시 1번부터 N/2번을 차례대로 배정받습니다. 만약 1번↔2번 끼리 겨루는 게임에서 2번이 승리했다면 다음 라운드에서 1번을 부여받고, 3번↔4번에서 겨루는 게임에서 3번이 승리했다면 다음 라운드에서 2번을 부여받게 됩니다. 게임은 최종 한 명이 남을 때까지 진행됩니다.\n",
        "\n",
        "이때, 처음 라운드에서 A번을 가진 참가자는 경쟁자로 생각하는 B번 참가자와 몇 번째 라운드에서 만나는지 궁금해졌습니다. 게임 참가자 수 N, 참가자 번호 A, 경쟁자 번호 B가 함수 solution의 매개변수로 주어질 때, 처음 라운드에서 A번을 가진 참가자는 경쟁자로 생각하는 B번 참가자와 몇 번째 라운드에서 만나는지 return 하는 solution 함수를 완성해 주세요. 단, A번 참가자와 B번 참가자는 서로 붙게 되기 전까지 항상 이긴다고 가정합니다."
      ]
    },
    {
      "cell_type": "code",
      "metadata": {
        "id": "mV6VipH3PAeY",
        "colab_type": "code",
        "colab": {
          "base_uri": "https://localhost:8080/",
          "height": 36
        },
        "outputId": "d8725a2e-3604-4d8a-ec80-9dfae938c581"
      },
      "source": [
        "# 내 코드 \n",
        "# 각기 다른 경우들 그려서 관계 생각하면서 코드 짜기\n",
        "\n",
        "from math import log \n",
        "\n",
        "def loop(n, a, b):\n",
        "\n",
        "    c = min(a, b)\n",
        "    d = max(a, b)\n",
        "\n",
        "    while n // 2 >= 1:\n",
        "        if c <= n // 2 and d > n // 2:\n",
        "            return int(log(n, 2))\n",
        "        elif c > n // 2 and d > n // 2:\n",
        "            c -= n // 2\n",
        "            d -= n // 2\n",
        "            n = n // 2    \n",
        "        else:             \n",
        "            n = n // 2\n",
        "\n",
        "\n",
        "loop(8, 1, 8)"
      ],
      "execution_count": 89,
      "outputs": [
        {
          "output_type": "execute_result",
          "data": {
            "text/plain": [
              "3"
            ]
          },
          "metadata": {
            "tags": []
          },
          "execution_count": 89
        }
      ]
    },
    {
      "cell_type": "code",
      "metadata": {
        "id": "kig0jLVIpSsx",
        "colab_type": "code",
        "outputId": "ec1ed956-92a0-4ccb-c698-ef615466e47d",
        "colab": {
          "base_uri": "https://localhost:8080/",
          "height": 36
        }
      },
      "source": [
        "# 더 나은 코드 \n",
        "# 생각하던 코드.... 전개를 그려가면서 해야하나보다 \n",
        "\n",
        "def solution(a, b):\n",
        "    answer = 0 \n",
        "    while a != b:\n",
        "        answer += 1\n",
        "        a, b = (a+1)//2, (b+1)//2\n",
        "    return answer \n",
        "\n",
        "loop(8, 1, 8)"
      ],
      "execution_count": 91,
      "outputs": [
        {
          "output_type": "execute_result",
          "data": {
            "text/plain": [
              "3"
            ]
          },
          "metadata": {
            "tags": []
          },
          "execution_count": 91
        }
      ]
    },
    {
      "cell_type": "code",
      "metadata": {
        "id": "Cmli5_ETfoTC",
        "colab_type": "code",
        "colab": {
          "base_uri": "https://localhost:8080/",
          "height": 92
        },
        "outputId": "1983e680-0298-4c79-97ff-3a136619e8c1"
      },
      "source": [
        "# 예상치 못한 코드ㄷㄷㄷㄷㄷㄷㄷㄷㄷㄷㄷ\n",
        "# x.bit_length(): 2**(k-1) <= abs(x) < 2**k 를 만족하는 유일한 양의 정수 k\n",
        "\n",
        "def solution(n, a, b):\n",
        "    return ((a-1) ^ (b-1)).bit_length()\n",
        "\n",
        "loop(8, 1, 8)\n",
        "print(152^3)\n",
        "print(bin(152))\n",
        "print(bin(3))\n",
        "print(bin(155))"
      ],
      "execution_count": 102,
      "outputs": [
        {
          "output_type": "stream",
          "text": [
            "155\n",
            "0b10011000\n",
            "0b11\n",
            "0b10011011\n"
          ],
          "name": "stdout"
        }
      ]
    }
  ]
}