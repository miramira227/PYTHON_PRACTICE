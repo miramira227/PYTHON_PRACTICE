{
  "nbformat": 4,
  "nbformat_minor": 0,
  "metadata": {
    "colab": {
      "name": "6. 2016년.py",
      "provenance": []
    },
    "kernelspec": {
      "name": "python3",
      "display_name": "Python 3"
    }
  },
  "cells": [
    {
      "cell_type": "markdown",
      "metadata": {
        "id": "3vadaMf6tB0L",
        "colab_type": "text"
      },
      "source": [
        "**6. 2016년**\n",
        "\n",
        "2016년 1월 1일은 금요일입니다. 2016년 a월 b일은 무슨 요일일까요? 두 수 a ,b를 입력받아 2016년 a월 b일이 무슨 요일인지 리턴하는 함수, solution을 완성하세요."
      ]
    },
    {
      "cell_type": "code",
      "metadata": {
        "id": "WmufPjh-tAYq",
        "colab_type": "code",
        "colab": {
          "base_uri": "https://localhost:8080/",
          "height": 35
        },
        "outputId": "2d17ea22-624e-493d-87d8-7e6edaca4991"
      },
      "source": [
        "# 내 코드\n",
        "\n",
        "import calendar \n",
        "\n",
        "# print(calendar.calendar(2016))\n",
        "# print(calendar.weekday(2017, 11, 26))\n",
        "# print(calendar.monthrange(2017, 11))\n",
        "\n",
        "def solution(a, b):\n",
        "    weekday_number = calendar.weekday(2016, a, b)\n",
        "    weekday_list = ['MON', 'TUE', 'WED', 'THU', 'FRI', 'SAT', 'SUN']\n",
        "    answer = weekday_list[weekday_number]\n",
        "    return answer\n",
        "\n",
        "solution(5, 24)"
      ],
      "execution_count": 3,
      "outputs": [
        {
          "output_type": "execute_result",
          "data": {
            "text/plain": [
              "'TUE'"
            ]
          },
          "metadata": {
            "tags": []
          },
          "execution_count": 3
        }
      ]
    },
    {
      "cell_type": "code",
      "metadata": {
        "id": "9i_Ny6s7tSNl",
        "colab_type": "code",
        "colab": {
          "base_uri": "https://localhost:8080/",
          "height": 35
        },
        "outputId": "c045cadc-565f-4de8-989a-88659412ab09"
      },
      "source": [
        "# 더 나은 코드 \n",
        "\n",
        "import calendar \n",
        "\n",
        "def solution(a, b):\n",
        "    weekdays = 'MON TUE WED THU FRI SAT SUN'.split()\n",
        "    return weekdays[calendar.weekday(2016, a, b)]\n",
        "\n",
        "solution(5, 24)"
      ],
      "execution_count": 4,
      "outputs": [
        {
          "output_type": "execute_result",
          "data": {
            "text/plain": [
              "'TUE'"
            ]
          },
          "metadata": {
            "tags": []
          },
          "execution_count": 4
        }
      ]
    }
  ]
}