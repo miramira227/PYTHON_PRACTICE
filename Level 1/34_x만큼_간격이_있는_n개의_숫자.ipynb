{
  "nbformat": 4,
  "nbformat_minor": 0,
  "metadata": {
    "colab": {
      "name": "34. x만큼 간격이 있는 n개의 숫자",
      "provenance": []
    },
    "kernelspec": {
      "name": "python3",
      "display_name": "Python 3"
    }
  },
  "cells": [
    {
      "cell_type": "markdown",
      "metadata": {
        "id": "Q7AhPgo1flTA",
        "colab_type": "text"
      },
      "source": [
        "**34. x만큼 간격이 있는 n개의 숫자**\n",
        "\n",
        "함수 solution은 정수 x와 자연수 n을 입력 받아, x부터 시작해 x씩 증가하는 숫자를 n개 지니는 리스트를 리턴해야 합니다.\n",
        "\n",
        "다음 제한 조건을 보고, 조건을 만족하는 함수, solution을 완성해주세요."
      ]
    },
    {
      "cell_type": "code",
      "metadata": {
        "id": "n8gl11OVfhXX",
        "colab_type": "code",
        "outputId": "5a7a3b21-4852-43e4-b705-814a64491e4a",
        "colab": {
          "base_uri": "https://localhost:8080/",
          "height": 34
        }
      },
      "source": [
        "# 내 코드 \n",
        "\n",
        "def solution(x, n):\n",
        "    return [x*(i+1) for i in range(n)]\n",
        "\n",
        "solution(-4, 2)"
      ],
      "execution_count": 77,
      "outputs": [
        {
          "output_type": "execute_result",
          "data": {
            "text/plain": [
              "[-4, -8]"
            ]
          },
          "metadata": {
            "tags": []
          },
          "execution_count": 77
        }
      ]
    },
    {
      "cell_type": "code",
      "metadata": {
        "id": "55mElsZaf9EZ",
        "colab_type": "code",
        "outputId": "144c4ac5-beb9-43f8-ea28-0b3b0bd8298f",
        "colab": {
          "base_uri": "https://localhost:8080/",
          "height": 34
        }
      },
      "source": [
        "# 다른 코드 \n",
        "\n",
        "def solution(x, n):\n",
        "    if x < 0:\n",
        "        return list(range(x, x*n-1 ,x))\n",
        "    else:\n",
        "        return list(range(x, x*n+1, x))\n",
        "\n",
        "solution(-4, 2)   "
      ],
      "execution_count": 78,
      "outputs": [
        {
          "output_type": "execute_result",
          "data": {
            "text/plain": [
              "[-4, -8]"
            ]
          },
          "metadata": {
            "tags": []
          },
          "execution_count": 78
        }
      ]
    }
  ]
}