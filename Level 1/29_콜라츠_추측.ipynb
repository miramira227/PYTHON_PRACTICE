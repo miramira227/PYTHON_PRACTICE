{
  "nbformat": 4,
  "nbformat_minor": 0,
  "metadata": {
    "colab": {
      "name": "29. 콜라츠 추측",
      "provenance": []
    },
    "kernelspec": {
      "name": "python3",
      "display_name": "Python 3"
    }
  },
  "cells": [
    {
      "cell_type": "markdown",
      "metadata": {
        "id": "SuoXUwsYEg2a",
        "colab_type": "text"
      },
      "source": [
        "**29. 최대공약수와 최소공배수**\n",
        "\n",
        "1937년 Collatz란 사람에 의해 제기된 이 추측은, 주어진 수가 1이 될때까지 다음 작업을 반복하면, 모든 수를 1로 만들 수 있다는 추측입니다. 작업은 다음과 같습니다.\n",
        "\n",
        "``1-1. 입력된 수가 짝수라면 2로 나눕니다.`` \n",
        "\n",
        "``1-2. 입력된 수가 홀수라면 3을 곱하고 1을 더합니다.``\n",
        "\n",
        "``2. 결과로 나온 수에 같은 작업을 1이 될 때까지 반복합니다.``\n",
        "\n",
        "예를 들어, 입력된 수가 6이라면 6→3→10→5→16→8→4→2→1 이 되어 총 8번 만에 1이 됩니다. \n",
        "\n",
        "위 작업을 몇 번이나 반복해야하는지 반환하는 함수, solution을 완성해 주세요. \n",
        "\n",
        "단, 작업을 500번을 반복해도 1이 되지 않는다면 –1을 반환해 주세요.\n"
      ]
    },
    {
      "cell_type": "code",
      "metadata": {
        "id": "0mF3A3LMEd8T",
        "colab_type": "code",
        "outputId": "749b9695-5116-4845-8fad-03f438b23a61",
        "colab": {
          "base_uri": "https://localhost:8080/",
          "height": 35
        }
      },
      "source": [
        "# 내 코드\n",
        "\n",
        "def solution(num):\n",
        "    count = 0\n",
        "    while num != 1:\n",
        "        num = num/2 if num%2 == 0 else num * 3 + 1\n",
        "        count = count + 1\n",
        "    return count if count <= 500 else -1\n",
        "\n",
        "solution(626331)"
      ],
      "execution_count": 18,
      "outputs": [
        {
          "output_type": "execute_result",
          "data": {
            "text/plain": [
              "-1"
            ]
          },
          "metadata": {
            "tags": []
          },
          "execution_count": 18
        }
      ]
    },
    {
      "cell_type": "code",
      "metadata": {
        "id": "Wf3gcJB_EsiO",
        "colab_type": "code",
        "outputId": "fc978bf4-f827-43ad-d8bf-a62df555ca44",
        "colab": {
          "base_uri": "https://localhost:8080/",
          "height": 35
        }
      },
      "source": [
        "# 더 나은 코드\n",
        "\n",
        "def collatz(num):\n",
        "    count = 0\n",
        "    while num != 1:\n",
        "        num = num/2 if num%2 == 0 else num * 3 + 1\n",
        "        count = count + 1\n",
        "    return count if count <= 500 else -1\n",
        "\n",
        "solution(626331)"
      ],
      "execution_count": 17,
      "outputs": [
        {
          "output_type": "execute_result",
          "data": {
            "text/plain": [
              "-1"
            ]
          },
          "metadata": {
            "tags": []
          },
          "execution_count": 17
        }
      ]
    }
  ]
}