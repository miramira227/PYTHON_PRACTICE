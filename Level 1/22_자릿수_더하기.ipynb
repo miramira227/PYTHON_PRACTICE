{
  "nbformat": 4,
  "nbformat_minor": 0,
  "metadata": {
    "colab": {
      "name": "22. 자릿수 더하기",
      "provenance": []
    },
    "kernelspec": {
      "name": "python3",
      "display_name": "Python 3"
    }
  },
  "cells": [
    {
      "cell_type": "markdown",
      "metadata": {
        "id": "SuoXUwsYEg2a",
        "colab_type": "text"
      },
      "source": [
        "**22. 자릿수 더하기**\n",
        "\n",
        "자연수 N이 주어지면, N의 각 자릿수의 합을 구해서 return 하는 solution 함수를 만들어 주세요.\n",
        "예를들어 N = 123이면 1 + 2 + 3 = 6을 return 하면 됩니다.\n"
      ]
    },
    {
      "cell_type": "code",
      "metadata": {
        "id": "0mF3A3LMEd8T",
        "colab_type": "code",
        "outputId": "4beef2a8-919b-4f94-cca0-7dde9a951bdf",
        "colab": {
          "base_uri": "https://localhost:8080/",
          "height": 35
        }
      },
      "source": [
        "# 내 코드\n",
        "\n",
        "def solution(n):\n",
        "    return sum([int(i) for i in str(n)])\n",
        "\n",
        "solution(123)"
      ],
      "execution_count": 54,
      "outputs": [
        {
          "output_type": "execute_result",
          "data": {
            "text/plain": [
              "6"
            ]
          },
          "metadata": {
            "tags": []
          },
          "execution_count": 54
        }
      ]
    },
    {
      "cell_type": "code",
      "metadata": {
        "id": "Wf3gcJB_EsiO",
        "colab_type": "code",
        "outputId": "c3da644b-d1d3-44c0-c958-68cc98084416",
        "colab": {
          "base_uri": "https://localhost:8080/",
          "height": 35
        }
      },
      "source": [
        "# 비슷한 코드\n",
        "\n",
        "def sum_digit(n):\n",
        "    if n < 10:\n",
        "        return n\n",
        "    return (n % 10) + solution(n // 10) \n",
        "\n",
        "sum_digit(123)\n"
      ],
      "execution_count": 57,
      "outputs": [
        {
          "output_type": "execute_result",
          "data": {
            "text/plain": [
              "6"
            ]
          },
          "metadata": {
            "tags": []
          },
          "execution_count": 57
        }
      ]
    }
  ]
}