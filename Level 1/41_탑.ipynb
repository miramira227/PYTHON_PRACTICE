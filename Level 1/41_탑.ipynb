{
  "nbformat": 4,
  "nbformat_minor": 0,
  "metadata": {
    "colab": {
      "name": "41. 탑",
      "provenance": [],
      "collapsed_sections": []
    },
    "kernelspec": {
      "name": "python3",
      "display_name": "Python 3"
    }
  },
  "cells": [
    {
      "cell_type": "markdown",
      "metadata": {
        "id": "M159A5Twgh2N",
        "colab_type": "text"
      },
      "source": [
        "**41. 탑**\n",
        "\n",
        "수평 직선에 탑 N대를 세웠습니다. 모든 탑의 꼭대기에는 신호를 송/수신하는 장치를 설치했습니다. 발사한 신호는 신호를 보낸 탑보다 높은 탑에서만 수신합니다. 또한, 한 번 수신된 신호는 다른 탑으로 송신되지 않습니다.\n",
        "\n",
        "예를 들어 높이가 6, 9, 5, 7, 4인 다섯 탑이 왼쪽으로 동시에 레이저 신호를 발사합니다. 그러면, 탑은 다음과 같이 신호를 주고받습니다. 높이가 4인 다섯 번째 탑에서 발사한 신호는 높이가 7인 네 번째 탑이 수신하고, 높이가 7인 네 번째 탑의 신호는 높이가 9인 두 번째 탑이, 높이가 5인 세 번째 탑의 신호도 높이가 9인 두 번째 탑이 수신합니다. 높이가 9인 두 번째 탑과 높이가 6인 첫 번째 탑이 보낸 레이저 신호는 어떤 탑에서도 수신할 수 없습니다.\n",
        "\n",
        "맨 왼쪽부터 순서대로 탑의 높이를 담은 배열 heights가 매개변수로 주어질 때 각 탑이 쏜 신호를 어느 탑에서 받았는지 기록한 배열을 return 하도록 solution 함수를 작성해주세요.\n"
      ]
    },
    {
      "cell_type": "code",
      "metadata": {
        "id": "dyKAgfNhgeIp",
        "colab_type": "code",
        "colab": {
          "base_uri": "https://localhost:8080/",
          "height": 34
        },
        "outputId": "6fcf8836-7f71-4428-9855-d6a0bf49e1a3"
      },
      "source": [
        "# 내 코드\n",
        "\n",
        "def solution(heights):\n",
        "    receivers = [0]*(len(heights))\n",
        "    for i in range(len(heights)):       # i = heights의 index, 0~4\n",
        "        for j in range(i, -1, -1):      # j = i라는 target을 기준으로 좌측으로 한칸씩 \n",
        "            if heights[j] > heights[i]:\n",
        "                receivers[i]= j+1\n",
        "                break\n",
        "\n",
        "    return receivers\n",
        "\n",
        "\n",
        "heights = [1,5,3,6,7,6,5]\n",
        "solution(heights)"
      ],
      "execution_count": 29,
      "outputs": [
        {
          "output_type": "execute_result",
          "data": {
            "text/plain": [
              "[0, 0, 2, 0, 0, 5, 6]"
            ]
          },
          "metadata": {
            "tags": []
          },
          "execution_count": 29
        }
      ]
    },
    {
      "cell_type": "code",
      "metadata": {
        "id": "aXQUqbp8tnEI",
        "colab_type": "code",
        "colab": {
          "base_uri": "https://localhost:8080/",
          "height": 34
        },
        "outputId": "3a566599-d10c-4ffb-a3d5-612fdd27adea"
      },
      "source": [
        "# 더 나은 코드 \n",
        "\n",
        "def solution(heights):\n",
        "    receivers = [0]*(len(heights))\n",
        "    for i in range(len(heights)-1, 0, -1):       # i = heights의 index, 0~4\n",
        "        for j in range(i, -1, -1):      # j = i라는 target을 기준으로 좌측으로 한칸씩 \n",
        "            if heights[j] > heights[i]:\n",
        "                receivers[i]= j+1\n",
        "                break\n",
        "\n",
        "    return receivers\n",
        "\n",
        "\n",
        "heights = [1,5,3,6,7,6,5]\n",
        "solution(heights)"
      ],
      "execution_count": 30,
      "outputs": [
        {
          "output_type": "execute_result",
          "data": {
            "text/plain": [
              "[0, 0, 2, 0, 0, 5, 6]"
            ]
          },
          "metadata": {
            "tags": []
          },
          "execution_count": 30
        }
      ]
    },
    {
      "cell_type": "code",
      "metadata": {
        "id": "g5OxWIv_uD64",
        "colab_type": "code",
        "colab": {}
      },
      "source": [
        ""
      ],
      "execution_count": 0,
      "outputs": []
    }
  ]
}