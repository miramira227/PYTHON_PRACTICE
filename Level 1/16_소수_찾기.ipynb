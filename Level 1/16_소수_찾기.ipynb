{
  "nbformat": 4,
  "nbformat_minor": 0,
  "metadata": {
    "colab": {
      "name": "16. 소수 찾기 ",
      "provenance": []
    },
    "kernelspec": {
      "name": "python3",
      "display_name": "Python 3"
    }
  },
  "cells": [
    {
      "cell_type": "markdown",
      "metadata": {
        "id": "u_ULkWr2YKPZ",
        "colab_type": "text"
      },
      "source": [
        "**16. 소수 찾기 **\n",
        "\n",
        "1부터 입력받은 숫자 n 사이에 있는 소수의 개수를 반환하는 함수, solution을 만들어 보세요.\n",
        "\n",
        "소수는 1과 자기 자신으로만 나누어지는 수를 의미합니다.\n",
        "(1은 소수가 아닙니다.)"
      ]
    },
    {
      "cell_type": "code",
      "metadata": {
        "id": "uym9FlzlYE3i",
        "colab_type": "code",
        "colab": {
          "base_uri": "https://localhost:8080/",
          "height": 35
        },
        "outputId": "9f819968-1707-49d3-b138-892cba889bfe"
      },
      "source": [
        "# 내 코드 \n",
        "\n",
        "def solution(n):\n",
        "    prime_list = list([i for i in range(2, n+1)])\n",
        "    for i in range(2, n+1):\n",
        "        for j in range(2, int(i ** (1/2))+1):\n",
        "            if (i % j == 0) and (i in prime_list): \n",
        "                    prime_list.remove(i)\n",
        "    return len(prime_list)\n",
        "\n",
        "solution(5)"
      ],
      "execution_count": 45,
      "outputs": [
        {
          "output_type": "execute_result",
          "data": {
            "text/plain": [
              "3"
            ]
          },
          "metadata": {
            "tags": []
          },
          "execution_count": 45
        }
      ]
    },
    {
      "cell_type": "code",
      "metadata": {
        "id": "GUIAYyX3Yr7v",
        "colab_type": "code",
        "colab": {
          "base_uri": "https://localhost:8080/",
          "height": 35
        },
        "outputId": "69749e08-f857-4b74-f4d4-21855d127a4c"
      },
      "source": [
        "# 더 나은 코드 \n",
        "\n",
        "def solution(n):\n",
        "    a = [False, False] + [True] * (n-1)\n",
        "    primes = []\n",
        "\n",
        "    for i in range(2, n+1):\n",
        "        if a[i]:\n",
        "            primes.append(i)\n",
        "            for j in range(2*i, n+1, i):\n",
        "                a[j] = False\n",
        "    return len(primes)\n",
        "\n",
        "solution(5)"
      ],
      "execution_count": 46,
      "outputs": [
        {
          "output_type": "execute_result",
          "data": {
            "text/plain": [
              "3"
            ]
          },
          "metadata": {
            "tags": []
          },
          "execution_count": 46
        }
      ]
    }
  ]
}