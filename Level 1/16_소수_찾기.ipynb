{
  "nbformat": 4,
  "nbformat_minor": 0,
  "metadata": {
    "colab": {
      "name": "16. 소수 찾기 ",
      "provenance": []
    },
    "kernelspec": {
      "name": "python3",
      "display_name": "Python 3"
    }
  },
  "cells": [
    {
      "cell_type": "markdown",
      "metadata": {
        "id": "u_ULkWr2YKPZ",
        "colab_type": "text"
      },
      "source": [
        "**16. 소수 찾기 **\n",
        "\n",
        "1부터 입력받은 숫자 n 사이에 있는 소수의 개수를 반환하는 함수, solution을 만들어 보세요.\n",
        "\n",
        "소수는 1과 자기 자신으로만 나누어지는 수를 의미합니다.\n",
        "(1은 소수가 아닙니다.)"
      ]
    },
    {
      "cell_type": "code",
      "metadata": {
        "id": "uym9FlzlYE3i",
        "colab_type": "code",
        "outputId": "9f819968-1707-49d3-b138-892cba889bfe",
        "colab": {
          "base_uri": "https://localhost:8080/",
          "height": 35
        }
      },
      "source": [
        "# 내 코드 \n",
        "\n",
        "def solution(n):\n",
        "    prime_list = list([i for i in range(2, n+1)])\n",
        "    for i in range(2, n+1):\n",
        "        for j in range(2, int(i ** (1/2))+1):\n",
        "            if (i % j == 0) and (i in prime_list): \n",
        "                    prime_list.remove(i)\n",
        "    return len(prime_list)\n",
        "\n",
        "solution(5)"
      ],
      "execution_count": 0,
      "outputs": [
        {
          "output_type": "execute_result",
          "data": {
            "text/plain": [
              "3"
            ]
          },
          "metadata": {
            "tags": []
          },
          "execution_count": 45
        }
      ]
    },
    {
      "cell_type": "code",
      "metadata": {
        "id": "GUIAYyX3Yr7v",
        "colab_type": "code",
        "outputId": "de39d7c0-d9ed-4b5d-d6e7-b8a827f3463c",
        "colab": {
          "base_uri": "https://localhost:8080/",
          "height": 35
        }
      },
      "source": [
        "# 더 나은 코드 \n",
        "\n",
        "def solution(n):\n",
        "    a = [False, False] + [True] * (n-1)\n",
        "    primes = []\n",
        "\n",
        "    for i in range(2, n+1):\n",
        "        if a[i]:\n",
        "            primes.append(i)\n",
        "            for j in range(2*i, n+1, i):\n",
        "                a[j] = False\n",
        "    return len(primes)\n",
        "\n",
        "solution(5)"
      ],
      "execution_count": 1,
      "outputs": [
        {
          "output_type": "execute_result",
          "data": {
            "text/plain": [
              "3"
            ]
          },
          "metadata": {
            "tags": []
          },
          "execution_count": 1
        }
      ]
    },
    {
      "cell_type": "code",
      "metadata": {
        "id": "5wXFJGhhm2WW",
        "colab_type": "code",
        "colab": {
          "base_uri": "https://localhost:8080/",
          "height": 35
        },
        "outputId": "a4aa80ea-8c76-436f-efdb-719ff86a9e9e"
      },
      "source": [
        "# 더더 나은 코드 \n",
        "\n",
        "def solution(n):\n",
        "    num = set(range(2, n+1))\n",
        "\n",
        "    for i in range(2, n+1):\n",
        "        if i in num:\n",
        "            num -= set(range(2 * i, n+1, i))\n",
        "    \n",
        "    return len(num)\n",
        "\n",
        "solution(5)"
      ],
      "execution_count": 3,
      "outputs": [
        {
          "output_type": "execute_result",
          "data": {
            "text/plain": [
              "3"
            ]
          },
          "metadata": {
            "tags": []
          },
          "execution_count": 3
        }
      ]
    }
  ]
}