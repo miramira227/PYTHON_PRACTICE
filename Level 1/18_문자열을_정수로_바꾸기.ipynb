{
  "nbformat": 4,
  "nbformat_minor": 0,
  "metadata": {
    "colab": {
      "name": "18. 문자열을 정수로 바꾸기",
      "provenance": []
    },
    "kernelspec": {
      "name": "python3",
      "display_name": "Python 3"
    }
  },
  "cells": [
    {
      "cell_type": "markdown",
      "metadata": {
        "id": "u_ULkWr2YKPZ",
        "colab_type": "text"
      },
      "source": [
        "**18. 문자열을 정수로 바꾸기**\n",
        "\n",
        "문자열 s를 숫자로 변환한 결과를 반환하는 함수, solution을 완성하세요."
      ]
    },
    {
      "cell_type": "code",
      "metadata": {
        "id": "uym9FlzlYE3i",
        "colab_type": "code",
        "outputId": "8d68728e-5bc6-4d28-adb9-bab2418c2fe9",
        "colab": {
          "base_uri": "https://localhost:8080/",
          "height": 35
        }
      },
      "source": [
        "# 내 코드 \n",
        "\n",
        "def solution(n):\n",
        "    return int(n)\n",
        "\n",
        "# s = \"-1234\"\n",
        "# solution(s)"
      ],
      "execution_count": 23,
      "outputs": [
        {
          "output_type": "execute_result",
          "data": {
            "text/plain": [
              "-1234"
            ]
          },
          "metadata": {
            "tags": []
          },
          "execution_count": 23
        }
      ]
    },
    {
      "cell_type": "code",
      "metadata": {
        "id": "GUIAYyX3Yr7v",
        "colab_type": "code",
        "outputId": "ab0d1dcf-6bc4-4d82-e088-3707bac942e0",
        "colab": {
          "base_uri": "https://localhost:8080/",
          "height": 35
        }
      },
      "source": [
        "# 더 나은 코드 \n",
        "\n",
        "def solution(str):\n",
        "    result = 0\n",
        "\n",
        "    for idx, number in enumerate(str[::-1]):\n",
        "        if number == '-':\n",
        "            result *= -1\n",
        "        else:\n",
        "            result += int(number) * (10 ** idx)\n",
        "    return result \n",
        "\n",
        "\n",
        "solution('-1234')"
      ],
      "execution_count": 10,
      "outputs": [
        {
          "output_type": "execute_result",
          "data": {
            "text/plain": [
              "-1234"
            ]
          },
          "metadata": {
            "tags": []
          },
          "execution_count": 10
        }
      ]
    }
  ]
}