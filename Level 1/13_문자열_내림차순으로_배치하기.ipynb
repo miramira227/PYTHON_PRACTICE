{
  "nbformat": 4,
  "nbformat_minor": 0,
  "metadata": {
    "colab": {
      "name": "13. 문자열 내림차순으로 배치하기",
      "provenance": [],
      "collapsed_sections": []
    },
    "kernelspec": {
      "name": "python3",
      "display_name": "Python 3"
    }
  },
  "cells": [
    {
      "cell_type": "markdown",
      "metadata": {
        "id": "SlVZG5IM9edL",
        "colab_type": "text"
      },
      "source": [
        "**13. 문자열 내림차순으로 배치하기**\n",
        "\n",
        "문자열 s에 나타나는 문자를 큰것부터 작은 순으로 정렬해 새로운 문자열을 리턴하는 함수, solution을 완성해주세요.\n",
        "s는 영문 대소문자로만 구성되어 있으며, 대문자는 소문자보다 작은 것으로 간주합니다."
      ]
    },
    {
      "cell_type": "code",
      "metadata": {
        "id": "hmRfSnRSkHfO",
        "colab_type": "code",
        "outputId": "8d79ec87-493c-48f8-d2ab-c7ca6196ca57",
        "colab": {
          "base_uri": "https://localhost:8080/",
          "height": 34
        }
      },
      "source": [
        "\n",
        "# 내 코드 \n",
        "\n",
        "def solution(s):\n",
        "    return ''.join(sorted(s, reverse=True))\n",
        "\n",
        "s = \"Zbcdefg\"\n",
        "solution(s)\n"
      ],
      "execution_count": 6,
      "outputs": [
        {
          "output_type": "execute_result",
          "data": {
            "text/plain": [
              "'gfedcbZ'"
            ]
          },
          "metadata": {
            "tags": []
          },
          "execution_count": 6
        }
      ]
    },
    {
      "cell_type": "code",
      "metadata": {
        "id": "7PMDHxsvkhIm",
        "colab_type": "code",
        "outputId": "c95ddf1b-0b9c-42e2-e827-bb629fb5c352",
        "colab": {
          "base_uri": "https://localhost:8080/",
          "height": 34
        }
      },
      "source": [
        "\n",
        "# 더 나은 코드(랑 내 코드랑 일치)\n",
        "\n",
        "def solution(s):\n",
        "    return ''.join(sorted(s, reverse=True))\n",
        "\n",
        "s = \"Zbcdefg\"\n",
        "solution(s)\n"
      ],
      "execution_count": 7,
      "outputs": [
        {
          "output_type": "execute_result",
          "data": {
            "text/plain": [
              "'gfedcbZ'"
            ]
          },
          "metadata": {
            "tags": []
          },
          "execution_count": 7
        }
      ]
    }
  ]
}