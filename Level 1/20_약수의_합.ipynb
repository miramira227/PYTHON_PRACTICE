{
  "nbformat": 4,
  "nbformat_minor": 0,
  "metadata": {
    "colab": {
      "name": "20. 약수의 합 ",
      "provenance": []
    },
    "kernelspec": {
      "name": "python3",
      "display_name": "Python 3"
    }
  },
  "cells": [
    {
      "cell_type": "markdown",
      "metadata": {
        "id": "SuoXUwsYEg2a",
        "colab_type": "text"
      },
      "source": [
        "**20. 약수의 합**\n",
        "\n",
        "정수 n을 입력받아 n의 약수를 모두 더한 값을 리턴하는 함수, solution을 완성해주세요."
      ]
    },
    {
      "cell_type": "code",
      "metadata": {
        "id": "0mF3A3LMEd8T",
        "colab_type": "code",
        "colab": {
          "base_uri": "https://localhost:8080/",
          "height": 35
        },
        "outputId": "095b263f-d76d-4451-cd0e-7d8ccff4bb68"
      },
      "source": [
        "# 내 코드\n",
        "\n",
        "def solution(n):\n",
        "    return sum(list([i for i in range(1, n+1) if n % i == 0]))\n",
        "\n",
        "solution(12)"
      ],
      "execution_count": 2,
      "outputs": [
        {
          "output_type": "execute_result",
          "data": {
            "text/plain": [
              "28"
            ]
          },
          "metadata": {
            "tags": []
          },
          "execution_count": 2
        }
      ]
    },
    {
      "cell_type": "code",
      "metadata": {
        "id": "Wf3gcJB_EsiO",
        "colab_type": "code",
        "colab": {
          "base_uri": "https://localhost:8080/",
          "height": 35
        },
        "outputId": "10afc2ee-d9b3-4e9a-ba0c-ceb3d2b5ab8c"
      },
      "source": [
        "# 더 나은 코드 \n",
        "\n",
        "def sumDivisor(num):\n",
        "    # num / 2 의 수들만 검사하면 성능 약 2배 향상잼\n",
        "    return num + sum([i for i in range(1, (num // 2) + 1) if num % i == 0])\n",
        "\n",
        "solution(12)"
      ],
      "execution_count": 3,
      "outputs": [
        {
          "output_type": "execute_result",
          "data": {
            "text/plain": [
              "28"
            ]
          },
          "metadata": {
            "tags": []
          },
          "execution_count": 3
        }
      ]
    }
  ]
}