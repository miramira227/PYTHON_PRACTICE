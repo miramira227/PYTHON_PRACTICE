{
  "nbformat": 4,
  "nbformat_minor": 0,
  "metadata": {
    "colab": {
      "name": "25. 정수 제곱근 판별 ",
      "provenance": []
    },
    "kernelspec": {
      "name": "python3",
      "display_name": "Python 3"
    }
  },
  "cells": [
    {
      "cell_type": "markdown",
      "metadata": {
        "id": "SuoXUwsYEg2a",
        "colab_type": "text"
      },
      "source": [
        "**25. 정수 제곱근 판별**\n",
        "\n",
        "임의의 양의 정수 n에 대해, n이 어떤 양의 정수 x의 제곱인지 아닌지 판단하려 합니다.\n",
        "n이 양의 정수 x의 제곱이라면 x+1의 제곱을 리턴하고, n이 양의 정수 x의 제곱이 아니라면 -1을 리턴하는 함수를 완성하세요.\n"
      ]
    },
    {
      "cell_type": "code",
      "metadata": {
        "id": "0mF3A3LMEd8T",
        "colab_type": "code",
        "outputId": "94cc18c2-0493-4548-e790-d23ab0e02745",
        "colab": {
          "base_uri": "https://localhost:8080/",
          "height": 35
        }
      },
      "source": [
        "# 내 코드\n",
        "import math \n",
        "\n",
        "def solution(n):\n",
        "    if math.sqrt(n) == math.floor(math.sqrt(n)):\n",
        "        return int(math.sqrt(n)+1) * int(math.sqrt(n)+1)\n",
        "    else:\n",
        "        return -1\n",
        "\n",
        "solution(30)"
      ],
      "execution_count": 12,
      "outputs": [
        {
          "output_type": "execute_result",
          "data": {
            "text/plain": [
              "-1"
            ]
          },
          "metadata": {
            "tags": []
          },
          "execution_count": 12
        }
      ]
    },
    {
      "cell_type": "code",
      "metadata": {
        "id": "Wf3gcJB_EsiO",
        "colab_type": "code",
        "outputId": "8dda2067-6c8b-4989-9346-712bc50445e8",
        "colab": {
          "base_uri": "https://localhost:8080/",
          "height": 35
        }
      },
      "source": [
        "# 더 나은 코드\n",
        "\n",
        "def nextSquare(n):\n",
        "    sqrt = n ** (1/2)\n",
        "\n",
        "    if sqrt % 1 == 0:\n",
        "        return (sqrt + 1) ** 2\n",
        "    else:\n",
        "        return -1\n",
        "\n",
        "solution(30)\n"
      ],
      "execution_count": 13,
      "outputs": [
        {
          "output_type": "execute_result",
          "data": {
            "text/plain": [
              "-1"
            ]
          },
          "metadata": {
            "tags": []
          },
          "execution_count": 13
        }
      ]
    }
  ]
}