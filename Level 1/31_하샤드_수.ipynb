{
  "nbformat": 4,
  "nbformat_minor": 0,
  "metadata": {
    "colab": {
      "name": "31. 하샤드 수",
      "provenance": []
    },
    "kernelspec": {
      "name": "python3",
      "display_name": "Python 3"
    }
  },
  "cells": [
    {
      "cell_type": "markdown",
      "metadata": {
        "id": "Q7AhPgo1flTA",
        "colab_type": "text"
      },
      "source": [
        "**31. 하샤드 수**\n",
        "\n",
        "양의 정수 x가 하샤드 수이려면 x의 자릿수의 합으로 x가 나누어져야 합니다. \n",
        "\n",
        "예를 들어 18의 자릿수 합은 1+8=9이고, 18은 9로 나누어 떨어지므로 18은 하샤드 수입니다. 자연수 x를 입력받아 x가 하샤드 수인지 아닌지 검사하는 함수, solution을 완성해주세요."
      ]
    },
    {
      "cell_type": "code",
      "metadata": {
        "id": "n8gl11OVfhXX",
        "colab_type": "code",
        "colab": {
          "base_uri": "https://localhost:8080/",
          "height": 35
        },
        "outputId": "7074f577-c81b-4084-b35f-7e6a545ee427"
      },
      "source": [
        "# 내 코드 \n",
        "\n",
        "def solution(arr):\n",
        "    summation = sum([int(i) for i in str(arr)])\n",
        "    return bool(arr%summation==0)\n",
        "\n",
        "arr= 11\n",
        "solution(arr)"
      ],
      "execution_count": 9,
      "outputs": [
        {
          "output_type": "execute_result",
          "data": {
            "text/plain": [
              "False"
            ]
          },
          "metadata": {
            "tags": []
          },
          "execution_count": 9
        }
      ]
    },
    {
      "cell_type": "code",
      "metadata": {
        "id": "55mElsZaf9EZ",
        "colab_type": "code",
        "colab": {
          "base_uri": "https://localhost:8080/",
          "height": 35
        },
        "outputId": "a0483614-c293-478e-9f0a-0701e1d7c9bb"
      },
      "source": [
        "# 더 나은 코드 \n",
        "\n",
        "def Harshad(n):\n",
        "    return n % sum([int(c) for c in str(n)])==0\n",
        "\n",
        "arr= 11\n",
        "solution(arr)"
      ],
      "execution_count": 10,
      "outputs": [
        {
          "output_type": "execute_result",
          "data": {
            "text/plain": [
              "False"
            ]
          },
          "metadata": {
            "tags": []
          },
          "execution_count": 10
        }
      ]
    }
  ]
}