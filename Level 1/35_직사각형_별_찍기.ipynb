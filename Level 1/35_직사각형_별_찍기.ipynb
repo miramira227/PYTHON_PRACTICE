{
  "nbformat": 4,
  "nbformat_minor": 0,
  "metadata": {
    "colab": {
      "name": "35. 직사각형 별 찍기",
      "provenance": []
    },
    "kernelspec": {
      "name": "python3",
      "display_name": "Python 3"
    }
  },
  "cells": [
    {
      "cell_type": "markdown",
      "metadata": {
        "id": "Q7AhPgo1flTA",
        "colab_type": "text"
      },
      "source": [
        "**35. 직사각형 별 찍기**\n",
        "\n",
        "이 문제에는 표준 입력으로 두 개의 정수 n과 m이 주어집니다.\n",
        "\n",
        "별(*) 문자를 이용해 가로의 길이가 n, 세로의 길이가 m인 직사각형 형태를 출력해보세요."
      ]
    },
    {
      "cell_type": "code",
      "metadata": {
        "id": "n8gl11OVfhXX",
        "colab_type": "code",
        "outputId": "439f75a4-631e-4924-e7f1-1f787e3d10af",
        "colab": {
          "base_uri": "https://localhost:8080/",
          "height": 104
        }
      },
      "source": [
        "# 내 코드 \n",
        "\n",
        "\n",
        "a, b = map(int, input().strip().split(' '))\n",
        "\n",
        "print(('*'*a+'\\n')*b)\n"
      ],
      "execution_count": 72,
      "outputs": [
        {
          "output_type": "stream",
          "text": [
            "5 3\n",
            "*****\n",
            "*****\n",
            "*****\n",
            "\n"
          ],
          "name": "stdout"
        }
      ]
    },
    {
      "cell_type": "code",
      "metadata": {
        "id": "55mElsZaf9EZ",
        "colab_type": "code",
        "outputId": "e0edb1d8-08ba-404c-a5d6-9474815e5727",
        "colab": {
          "base_uri": "https://localhost:8080/",
          "height": 104
        }
      },
      "source": [
        "# 다른 코드도 같음 \n",
        "\n",
        "a, b = map(int, input().strip().split(' '))\n",
        "\n",
        "print(('*'*a+'\\n')*b)\n"
      ],
      "execution_count": 71,
      "outputs": [
        {
          "output_type": "stream",
          "text": [
            "5 3\n",
            "*****\n",
            "*****\n",
            "*****\n",
            "\n"
          ],
          "name": "stdout"
        }
      ]
    }
  ]
}