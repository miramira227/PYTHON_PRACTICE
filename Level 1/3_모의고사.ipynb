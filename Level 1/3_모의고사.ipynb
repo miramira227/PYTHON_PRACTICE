{
  "nbformat": 4,
  "nbformat_minor": 0,
  "metadata": {
    "colab": {
      "name": "3. 모의고사",
      "provenance": [],
      "collapsed_sections": []
    },
    "kernelspec": {
      "name": "python3",
      "display_name": "Python 3"
    }
  },
  "cells": [
    {
      "cell_type": "markdown",
      "metadata": {
        "id": "SuoXUwsYEg2a",
        "colab_type": "text"
      },
      "source": [
        "**3. 모의고사**\n",
        "\n",
        "수포자는 수학을 포기한 사람의 준말입니다. 수포자 삼인방은 모의고사에 수학 문제를 전부 찍으려 합니다. 수포자는 1번 문제부터 마지막 문제까지 다음과 같이 찍습니다.\n",
        "\n",
        "``1번 수포자가 찍는 방식: 1, 2, 3, 4, 5, 1, 2, 3, 4, 5, ...``\n",
        "\n",
        "``2번 수포자가 찍는 방식: 2, 1, 2, 3, 2, 4, 2, 5, 2, 1, 2, 3, 2, 4, 2, 5, ...``\n",
        "\n",
        "``3번 수포자가 찍는 방식: 3, 3, 1, 1, 2, 2, 4, 4, 5, 5, 3, 3, 1, 1, 2, 2, 4, 4, 5, 5, ...``\n",
        "\n",
        "1번 문제부터 마지막 문제까지의 정답이 순서대로 들은 배열 answers가 주어졌을 때, 가장 많은 문제를 맞힌 사람이 누구인지 배열에 담아 return 하도록 solution 함수를 작성해주세요."
      ]
    },
    {
      "cell_type": "code",
      "metadata": {
        "id": "0mF3A3LMEd8T",
        "colab_type": "code",
        "outputId": "3cf7d82c-d6a2-486a-d186-de12d9f7c9ea",
        "colab": {
          "base_uri": "https://localhost:8080/",
          "height": 34
        }
      },
      "source": [
        "# 내 코드\n",
        "\n",
        "def solution(answers):\n",
        "    a_cnt = 0\n",
        "    b_cnt = 0\n",
        "    c_cnt = 0\n",
        "\n",
        "    a = [1, 2, 3, 4, 5] \n",
        "    b = [2, 1, 2, 3, 2, 4, 2, 5] \n",
        "    c = [3, 3, 1 ,1, 2, 2, 4, 4, 5, 5] \n",
        "\n",
        "    list_a = [1, 2, 3, 4, 5] * (int(len(answers)/len(a))+1)\n",
        "    list_b = [2, 1, 2, 3, 2, 4, 2, 5] * (int(len(answers)/len(b))+1)\n",
        "    list_c = [3, 3, 1 ,1, 2, 2, 4, 4, 5, 5] * (int(len(answers)/len(c))+1)\n",
        "\n",
        "    # print(len(list_a), len(list_b), len(list_c), len(answers))\n",
        "\n",
        "    \n",
        "    for i in range(len(answers)):\n",
        "        if answers[i] == list_a[i]:\n",
        "            a_cnt += 1\n",
        "        if answers[i] == list_b[i]:\n",
        "            b_cnt += 1\n",
        "        if answers[i] == list_c[i]:\n",
        "            c_cnt += 1\n",
        "            \n",
        "    cnt_list = [a_cnt, b_cnt, c_cnt]\n",
        "\n",
        "    return [i+1 for i in range(len(cnt_list)) if cnt_list[i] >= max(cnt_list)]\n",
        " \n",
        "solution([1, 3, 3, 3, 3, 3, 3, 3, 3, 3, 3, 3, 3])"
      ],
      "execution_count": 20,
      "outputs": [
        {
          "output_type": "execute_result",
          "data": {
            "text/plain": [
              "[1]"
            ]
          },
          "metadata": {
            "tags": []
          },
          "execution_count": 20
        }
      ]
    },
    {
      "cell_type": "code",
      "metadata": {
        "id": "Wf3gcJB_EsiO",
        "colab_type": "code",
        "outputId": "04524639-919f-4d43-8b82-bc253ea68676",
        "colab": {
          "base_uri": "https://localhost:8080/",
          "height": 34
        }
      },
      "source": [
        "# 더 나은 코드\n",
        "\n",
        "def solution(answers):\n",
        "    pattern1 = [1, 2, 3, 4, 5]\n",
        "    pattern2 = [2, 1, 2, 3, 2, 4, 2, 5]\n",
        "    pattern3 = [3, 3, 1, 1, 2, 2, 4, 4, 5, 5]\n",
        "\n",
        "    score = [0, 0, 0]\n",
        "    result = []\n",
        "\n",
        "    for idx, answer in enumerate(answers):\n",
        "        if answer == pattern1[idx%len(pattern1)]:\n",
        "            score[0] += 1\n",
        "        if answer == pattern2[idx%len(pattern2)]:\n",
        "            score[1] += 1\n",
        "        if answer == pattern3[idx%len(pattern3)]:\n",
        "            score[2] += 1\n",
        "    \n",
        "    for idx, s in enumerate(score):\n",
        "        if s == max(score):\n",
        "            result.append(idx + 1)\n",
        "    \n",
        "    return result\n",
        "\n",
        "solution([1, 3, 3, 3, 3, 3, 3, 3, 3, 3, 3, 3, 3])"
      ],
      "execution_count": 21,
      "outputs": [
        {
          "output_type": "execute_result",
          "data": {
            "text/plain": [
              "[1]"
            ]
          },
          "metadata": {
            "tags": []
          },
          "execution_count": 21
        }
      ]
    },
    {
      "cell_type": "code",
      "metadata": {
        "id": "NxZ9UCLKxfsW",
        "colab_type": "code",
        "outputId": "53564134-6345-4d99-b143-0c969c600034",
        "colab": {
          "base_uri": "https://localhost:8080/",
          "height": 34
        }
      },
      "source": [
        "# 더더 나은 코드 \n",
        "\n",
        "def solution(answers):\n",
        "    p = [[1, 2, 3, 4, 5],\n",
        "         [2, 1, 2, 3, 2, 4, 2, 5],\n",
        "         [3, 3, 1, 1, 2, 2, 4, 4, 5, 5]]\n",
        "    s = [0] * len(p)\n",
        "\n",
        "    for q , a in enumerate(answers):\n",
        "        for i, v in enumerate(p):\n",
        "            if a == v[q % len(v)]:\n",
        "                s[i] += 1\n",
        "    return [i+1 for i, v in enumerate(s) if v == max(s)]\n",
        "\n",
        "solution([1, 3, 3, 3, 3, 3, 3, 3, 3, 3, 3, 3, 3])"
      ],
      "execution_count": 22,
      "outputs": [
        {
          "output_type": "execute_result",
          "data": {
            "text/plain": [
              "[1]"
            ]
          },
          "metadata": {
            "tags": []
          },
          "execution_count": 22
        }
      ]
    },
    {
      "cell_type": "code",
      "metadata": {
        "id": "etyo3rHzzrPr",
        "colab_type": "code",
        "colab": {
          "base_uri": "https://localhost:8080/",
          "height": 34
        },
        "outputId": "265ea250-5bd7-4f60-ebe7-77447de5d766"
      },
      "source": [
        "# 모듈 활용 \n",
        "from itertools import cycle \n",
        "\n",
        "def solution(answers):\n",
        "    giveups = [\n",
        "               cycle([1, 2, 3, 4, 5]),\n",
        "               cycle([2, 1, 2, 3, 2, 4, 2, 5]),\n",
        "               cycle([3, 3, 1, 1, 2, 2, 4, 4, 5, 5])\n",
        "    ]\n",
        "    scores = [0, 0, 0]\n",
        "    \n",
        "    for num in answers:\n",
        "        for i in range(3):\n",
        "            if next(giveups[i])==num:\n",
        "                scores[i]+=1\n",
        "    highest = max(scores)\n",
        "\n",
        "    return [i+1 for i, v in enumerate(scores) if v == highest]\n",
        "\n",
        "solution([1, 3, 3, 3, 3, 3, 3, 3, 3, 3, 3, 3, 3])"
      ],
      "execution_count": 23,
      "outputs": [
        {
          "output_type": "execute_result",
          "data": {
            "text/plain": [
              "[1]"
            ]
          },
          "metadata": {
            "tags": []
          },
          "execution_count": 23
        }
      ]
    }
  ]
}