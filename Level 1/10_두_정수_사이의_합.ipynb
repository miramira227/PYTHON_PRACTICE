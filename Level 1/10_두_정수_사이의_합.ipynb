{
  "nbformat": 4,
  "nbformat_minor": 0,
  "metadata": {
    "colab": {
      "name": "10. 두 정수 사이의 합",
      "provenance": []
    },
    "kernelspec": {
      "name": "python3",
      "display_name": "Python 3"
    }
  },
  "cells": [
    {
      "cell_type": "markdown",
      "metadata": {
        "id": "SlVZG5IM9edL",
        "colab_type": "text"
      },
      "source": [
        "**10. 두 정수 사이의 합**\n",
        "\n",
        "두 정수 a, b가 주어졌을 때 a와 b 사이에 속한 모든 정수의 합을 리턴하는 함수, solution을 완성하세요."
      ]
    },
    {
      "cell_type": "code",
      "metadata": {
        "id": "hmRfSnRSkHfO",
        "colab_type": "code",
        "outputId": "12b5edc6-f3c6-47b1-d69a-67cf60ae6a09",
        "colab": {
          "base_uri": "https://localhost:8080/",
          "height": 34
        }
      },
      "source": [
        "\n",
        "# 내 코드 \n",
        "\n",
        "def solution(a, b):\n",
        "    answer = (a+b) * (abs(b-a)+1) / 2\n",
        "    return int(answer)\n",
        "\n",
        "a = 5\n",
        "b = 3\n",
        "solution(a, b)\n"
      ],
      "execution_count": 40,
      "outputs": [
        {
          "output_type": "execute_result",
          "data": {
            "text/plain": [
              "12"
            ]
          },
          "metadata": {
            "tags": []
          },
          "execution_count": 40
        }
      ]
    },
    {
      "cell_type": "code",
      "metadata": {
        "id": "7PMDHxsvkhIm",
        "colab_type": "code",
        "outputId": "3fe46fba-2cb2-40a5-dd1d-41ad922b56d4",
        "colab": {
          "base_uri": "https://localhost:8080/",
          "height": 34
        }
      },
      "source": [
        "\n",
        "# 더 나은 코드 \n",
        "\n",
        "def adder(a, b):\n",
        "    # 함수를 완성하세요\n",
        "    if a > b: a, b = b, a\n",
        "\n",
        "    return sum(range(a,b+1))\n",
        "\n",
        "a = 5\n",
        "b = 3\n",
        "solution(a, b)\n"
      ],
      "execution_count": 41,
      "outputs": [
        {
          "output_type": "execute_result",
          "data": {
            "text/plain": [
              "12"
            ]
          },
          "metadata": {
            "tags": []
          },
          "execution_count": 41
        }
      ]
    }
  ]
}