{
  "nbformat": 4,
  "nbformat_minor": 0,
  "metadata": {
    "colab": {
      "name": "7. 가운데 글자 가져오기",
      "provenance": []
    },
    "kernelspec": {
      "name": "python3",
      "display_name": "Python 3"
    }
  },
  "cells": [
    {
      "cell_type": "markdown",
      "metadata": {
        "id": "IbPv1cyHfAWk",
        "colab_type": "text"
      },
      "source": [
        "**7. 가운데 글자 가져오기**\n",
        "\n",
        "단어 s의 가운데 글자를 반환하는 함수, solution을 만들어 보세요. 단어의 길이가 짝수라면 가운데 두글자를 반환하면 됩니다."
      ]
    },
    {
      "cell_type": "code",
      "metadata": {
        "id": "hmRfSnRSkHfO",
        "colab_type": "code",
        "colab": {
          "base_uri": "https://localhost:8080/",
          "height": 34
        },
        "outputId": "9407e3f1-cfe0-48d9-ac76-809672afa46e"
      },
      "source": [
        "\n",
        "# 내 코드\n",
        "\n",
        "def solution(s):\n",
        "    answer = s[int(len(s)/2)] if len(s)%2 != 0 else s[int(len(s)/2)-1:int(len(s)/2)+1] \n",
        "    return answer\n",
        "\n",
        "solution('abcde')\n"
      ],
      "execution_count": 10,
      "outputs": [
        {
          "output_type": "execute_result",
          "data": {
            "text/plain": [
              "'c'"
            ]
          },
          "metadata": {
            "tags": []
          },
          "execution_count": 10
        }
      ]
    },
    {
      "cell_type": "code",
      "metadata": {
        "id": "STaoYIRfdIeC",
        "colab_type": "code",
        "colab": {
          "base_uri": "https://localhost:8080/",
          "height": 34
        },
        "outputId": "b2c9c450-f929-4b47-eb82-bfcd73d23487"
      },
      "source": [
        "\n",
        "# 더 나은 코드 \n",
        "\n",
        "def string_middle(str):\n",
        "    # 함수를 완성하세요\n",
        "\n",
        "    return str[(len(str)-1)//2:len(str)//2+1]\n",
        "\n",
        "solution('abcde')\n"
      ],
      "execution_count": 11,
      "outputs": [
        {
          "output_type": "execute_result",
          "data": {
            "text/plain": [
              "'c'"
            ]
          },
          "metadata": {
            "tags": []
          },
          "execution_count": 11
        }
      ]
    }
  ]
}