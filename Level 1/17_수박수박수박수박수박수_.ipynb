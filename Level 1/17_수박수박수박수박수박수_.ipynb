{
  "nbformat": 4,
  "nbformat_minor": 0,
  "metadata": {
    "colab": {
      "name": "17. 수박수박수박수박수박수?",
      "provenance": []
    },
    "kernelspec": {
      "name": "python3",
      "display_name": "Python 3"
    }
  },
  "cells": [
    {
      "cell_type": "markdown",
      "metadata": {
        "id": "u_ULkWr2YKPZ",
        "colab_type": "text"
      },
      "source": [
        "**17. 수박수박수박수박수박수?**\n",
        "\n",
        "길이가 n이고, \"수박수박수박수....\"와 같은 패턴을 유지하는 문자열을 리턴하는 함수, solution을 완성하세요. 예를 들어 n이 4이면 \"수박수박\"을 리턴하고 3이라면 \"수박수\"를 리턴하면 됩니다."
      ]
    },
    {
      "cell_type": "code",
      "metadata": {
        "id": "uym9FlzlYE3i",
        "colab_type": "code",
        "outputId": "1fd444f5-0e9a-40d6-f6f6-5d2259734ef2",
        "colab": {
          "base_uri": "https://localhost:8080/",
          "height": 35
        }
      },
      "source": [
        "# 내 코드 \n",
        "\n",
        "def solution(n):\n",
        "    return '수박'*int(n/2) + '수'*int(n%2)\n",
        "\n",
        "solution(4)"
      ],
      "execution_count": 17,
      "outputs": [
        {
          "output_type": "execute_result",
          "data": {
            "text/plain": [
              "'수박수박'"
            ]
          },
          "metadata": {
            "tags": []
          },
          "execution_count": 17
        }
      ]
    },
    {
      "cell_type": "code",
      "metadata": {
        "id": "GUIAYyX3Yr7v",
        "colab_type": "code",
        "outputId": "7b724b9b-b821-45fc-d037-f1a419d82040",
        "colab": {
          "base_uri": "https://localhost:8080/",
          "height": 35
        }
      },
      "source": [
        "# 더 나은 코드 \n",
        "\n",
        "def solution(n):\n",
        "    s = '수박' * n\n",
        "    return s[:n]\n",
        "\n",
        "solution(5)"
      ],
      "execution_count": 18,
      "outputs": [
        {
          "output_type": "execute_result",
          "data": {
            "text/plain": [
              "'수박수박수'"
            ]
          },
          "metadata": {
            "tags": []
          },
          "execution_count": 18
        }
      ]
    }
  ]
}