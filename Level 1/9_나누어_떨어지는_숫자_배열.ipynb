{
  "nbformat": 4,
  "nbformat_minor": 0,
  "metadata": {
    "colab": {
      "name": "9. 나누어 떨어지는 숫자 배열",
      "provenance": []
    },
    "kernelspec": {
      "name": "python3",
      "display_name": "Python 3"
    }
  },
  "cells": [
    {
      "cell_type": "markdown",
      "metadata": {
        "id": "SlVZG5IM9edL",
        "colab_type": "text"
      },
      "source": [
        "**9. 나누어 떨어지는 숫자 배열**\n",
        "\n",
        "array의 각 element 중 divisor로 나누어 떨어지는 값을 오름차순으로 정렬한 배열을 반환하는 함수, solution을 작성해주세요.\n",
        "divisor로 나누어 떨어지는 element가 하나도 없다면 배열에 -1을 담아 반환하세요."
      ]
    },
    {
      "cell_type": "code",
      "metadata": {
        "id": "hmRfSnRSkHfO",
        "colab_type": "code",
        "outputId": "ecf34420-383c-44df-ee8d-623826c9e693",
        "colab": {
          "base_uri": "https://localhost:8080/",
          "height": 34
        }
      },
      "source": [
        "\n",
        "# 내 코드 \n",
        "\n",
        "def solution(arr, divisor):\n",
        "    new_arr = sorted(list([i for i in arr if i % divisor == 0])) \n",
        "    if len(new_arr) == 0: new_arr.append(-1)\n",
        "    return new_arr\n",
        "\n",
        "arr = [2, 36, 1, 3]\n",
        "solution(arr, 1)\n"
      ],
      "execution_count": 31,
      "outputs": [
        {
          "output_type": "execute_result",
          "data": {
            "text/plain": [
              "[1, 2, 3, 36]"
            ]
          },
          "metadata": {
            "tags": []
          },
          "execution_count": 31
        }
      ]
    },
    {
      "cell_type": "code",
      "metadata": {
        "id": "7PMDHxsvkhIm",
        "colab_type": "code",
        "outputId": "3b7833cc-e742-4c38-e728-0bf5f336b406",
        "colab": {
          "base_uri": "https://localhost:8080/",
          "height": 34
        }
      },
      "source": [
        "\n",
        "# 더 나은 코드 \n",
        "\n",
        "def solution(arr, divisor): return sorted([n for n in arr if n%divisor == 0]) or [-1]\n",
        "\n",
        "arr = [2, 36, 1, 3]\n",
        "solution(arr, 1)\n"
      ],
      "execution_count": 32,
      "outputs": [
        {
          "output_type": "execute_result",
          "data": {
            "text/plain": [
              "[1, 2, 3, 36]"
            ]
          },
          "metadata": {
            "tags": []
          },
          "execution_count": 32
        }
      ]
    }
  ]
}