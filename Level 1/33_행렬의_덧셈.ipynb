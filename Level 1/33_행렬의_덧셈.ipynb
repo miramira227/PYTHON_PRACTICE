{
  "nbformat": 4,
  "nbformat_minor": 0,
  "metadata": {
    "colab": {
      "name": "33. 행렬의 덧셈",
      "provenance": []
    },
    "kernelspec": {
      "name": "python3",
      "display_name": "Python 3"
    }
  },
  "cells": [
    {
      "cell_type": "markdown",
      "metadata": {
        "id": "Q7AhPgo1flTA",
        "colab_type": "text"
      },
      "source": [
        "**33. 행렬의 덧셈**\n",
        "\n",
        "행렬의 덧셈은 행과 열의 크기가 같은 두 행렬의 같은 행, 같은 열의 값을 서로 더한 결과가 됩니다. 2개의 행렬 arr1과 arr2를 입력받아, 행렬 덧셈의 결과를 반환하는 함수, solution을 완성해주세요."
      ]
    },
    {
      "cell_type": "code",
      "metadata": {
        "id": "n8gl11OVfhXX",
        "colab_type": "code",
        "outputId": "2dc202af-f119-4026-aafa-67aa29de88d8",
        "colab": {
          "base_uri": "https://localhost:8080/",
          "height": 34
        }
      },
      "source": [
        "# 내 코드 \n",
        "\n",
        "import numpy as np \n",
        "\n",
        "def solution(arr1, arr2):\n",
        "    return np.add(arr1, arr2).tolist()\n",
        "\n",
        "arr1 = [[1, 2], [2, 3]]\n",
        "arr2 = [[3, 4], [5, 6]]\n",
        "# result = [[4, 6], [7, 9]]\n",
        "\n",
        "solution(arr1, arr2)"
      ],
      "execution_count": 26,
      "outputs": [
        {
          "output_type": "execute_result",
          "data": {
            "text/plain": [
              "[[4, 6], [7, 9]]"
            ]
          },
          "metadata": {
            "tags": []
          },
          "execution_count": 26
        }
      ]
    },
    {
      "cell_type": "code",
      "metadata": {
        "id": "55mElsZaf9EZ",
        "colab_type": "code",
        "outputId": "410278ef-3184-4f14-a3fd-8ed1e58812f2",
        "colab": {
          "base_uri": "https://localhost:8080/",
          "height": 34
        }
      },
      "source": [
        "# 더 나은 코드 \n",
        "\n",
        "def solution(arr1, arr2):\n",
        "    return [[c+d for c, d in zip(a, b)] for a, b in zip(arr1, arr2)]\n",
        "\n",
        "arr1 = [[1, 2], [2, 3]]\n",
        "arr2 = [[3, 4], [5, 6]]\n",
        "# result = [[4, 6], [7, 9]]\n",
        "\n",
        "solution(arr1, arr2)"
      ],
      "execution_count": 57,
      "outputs": [
        {
          "output_type": "execute_result",
          "data": {
            "text/plain": [
              "[[4, 6], [7, 9]]"
            ]
          },
          "metadata": {
            "tags": []
          },
          "execution_count": 57
        }
      ]
    }
  ]
}