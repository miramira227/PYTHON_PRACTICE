{
  "nbformat": 4,
  "nbformat_minor": 0,
  "metadata": {
    "colab": {
      "name": "32. 핸드폰 번호 가리기",
      "provenance": []
    },
    "kernelspec": {
      "name": "python3",
      "display_name": "Python 3"
    }
  },
  "cells": [
    {
      "cell_type": "markdown",
      "metadata": {
        "id": "Q7AhPgo1flTA",
        "colab_type": "text"
      },
      "source": [
        "**32. 핸드폰 번호 가리기**\n",
        "\n",
        "프로그래머스 모바일은 개인정보 보호를 위해 고지서를 보낼 때 고객들의 전화번호의 일부를 가립니다.\n",
        "\n",
        "\n",
        "전화번호가 문자열 phone_number로 주어졌을 때, 전화번호의 뒷 4자리를 제외한 나머지 숫자를 전부 *으로 가린 문자열을 리턴하는 함수, solution을 완성해주세요."
      ]
    },
    {
      "cell_type": "code",
      "metadata": {
        "id": "n8gl11OVfhXX",
        "colab_type": "code",
        "colab": {
          "base_uri": "https://localhost:8080/",
          "height": 35
        },
        "outputId": "38f660fa-8f50-47c2-bf06-8a0e9bb4d24a"
      },
      "source": [
        "# 내 코드 \n",
        "\n",
        "def solution(phone_number):\n",
        "    return '*'*len(phone_number[:-4]) +phone_number[-4:-1]+phone_number[-1]\n",
        "\n",
        "phone_number = \"01033334440\"\n",
        "solution(phone_number)"
      ],
      "execution_count": 31,
      "outputs": [
        {
          "output_type": "execute_result",
          "data": {
            "text/plain": [
              "'*******4440'"
            ]
          },
          "metadata": {
            "tags": []
          },
          "execution_count": 31
        }
      ]
    },
    {
      "cell_type": "code",
      "metadata": {
        "id": "55mElsZaf9EZ",
        "colab_type": "code",
        "colab": {
          "base_uri": "https://localhost:8080/",
          "height": 35
        },
        "outputId": "62342943-552b-4e17-9f30-76f83b8086e0"
      },
      "source": [
        "# 더 나은 코드 \n",
        "\n",
        "def hide_numbers(s):\n",
        "    return '*'*(len(s)-4) + s[-4:]\n",
        "\n",
        "phone_number = \"01033334440\"\n",
        "solution(phone_number)"
      ],
      "execution_count": 32,
      "outputs": [
        {
          "output_type": "execute_result",
          "data": {
            "text/plain": [
              "'*******4440'"
            ]
          },
          "metadata": {
            "tags": []
          },
          "execution_count": 32
        }
      ]
    }
  ]
}