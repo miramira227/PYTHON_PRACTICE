{
  "nbformat": 4,
  "nbformat_minor": 0,
  "metadata": {
    "colab": {
      "name": "5. 체육복.py",
      "provenance": []
    },
    "kernelspec": {
      "name": "python3",
      "display_name": "Python 3"
    }
  },
  "cells": [
    {
      "cell_type": "markdown",
      "metadata": {
        "id": "3vadaMf6tB0L",
        "colab_type": "text"
      },
      "source": [
        "**5. 체육복**\n",
        "\n",
        "    전체 학생의 수 n, 체육복을 도난당한 학생들의 번호가 담긴 배열 lost, 여벌의 체육복을 가져온 학생들의 번호가 담긴 배열 reserve가 매개변수로 주어질 때, 체육수업을 들을 수 있는 학생의 최댓값을 return 하도록 solution 함수를 작성해주세요."
      ]
    },
    {
      "cell_type": "code",
      "metadata": {
        "id": "WmufPjh-tAYq",
        "colab_type": "code",
        "colab": {
          "base_uri": "https://localhost:8080/",
          "height": 35
        },
        "outputId": "932cccf4-3e14-4d81-9a37-b5400082272b"
      },
      "source": [
        "# 내 코드\n",
        "\n",
        "lost = [1, 2, 3, 4, 5]\n",
        "reserve = [4, 5, 6]\n",
        "\n",
        "def solution(n, lost, reserve):\n",
        "    for i in range(1, n+1):\n",
        "        if i in reserve and i in lost: \n",
        "            reserve.pop(reserve.index(i))\n",
        "            lost.pop(lost.index(i))\n",
        "    for i in range(1, n+1):\n",
        "        if i in lost and i-1 in reserve: \n",
        "            reserve.pop(reserve.index(i-1)) \n",
        "            lost.pop(lost.index(i)) \n",
        "        elif i in lost and i+1 in reserve:\n",
        "            reserve.pop(reserve.index(i+1)) \n",
        "            lost.pop(lost.index(i)) \n",
        "        else: \n",
        "            pass\n",
        "\n",
        "    answer = n-len(lost)\n",
        "    return answer\n",
        "\n",
        "solution(30, lost, reserve)"
      ],
      "execution_count": 1,
      "outputs": [
        {
          "output_type": "execute_result",
          "data": {
            "text/plain": [
              "27"
            ]
          },
          "metadata": {
            "tags": []
          },
          "execution_count": 1
        }
      ]
    },
    {
      "cell_type": "code",
      "metadata": {
        "id": "9i_Ny6s7tSNl",
        "colab_type": "code",
        "colab": {
          "base_uri": "https://localhost:8080/",
          "height": 35
        },
        "outputId": "f81c7577-fba3-4daa-a852-4e31677c400c"
      },
      "source": [
        "# 더 나은 코드 \n",
        "\n",
        "lost = [1, 2, 3, 4, 5]\n",
        "reserve = [4, 5, 6]\n",
        "\n",
        "def solution(n, lost, reserve):\n",
        "    _reserve = [r for r in reserve if r not in lost]\n",
        "    _lost = [l for l in lost if l not in reserve]\n",
        "    for i in _reserve:\n",
        "        if i-1 in _lost:\n",
        "            _lost.remove(i-1)\n",
        "        elif i+1 in _lost:\n",
        "            _lost.remove(i+1)\n",
        "    return n-len(_lost)\n",
        "\n",
        "solution(30, lost, reserve)"
      ],
      "execution_count": 2,
      "outputs": [
        {
          "output_type": "execute_result",
          "data": {
            "text/plain": [
              "27"
            ]
          },
          "metadata": {
            "tags": []
          },
          "execution_count": 2
        }
      ]
    }
  ]
}