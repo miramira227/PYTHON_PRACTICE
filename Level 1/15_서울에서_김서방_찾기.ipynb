{
  "nbformat": 4,
  "nbformat_minor": 0,
  "metadata": {
    "colab": {
      "name": "15. 서울에서 김서방 찾기 ",
      "provenance": []
    },
    "kernelspec": {
      "name": "python3",
      "display_name": "Python 3"
    }
  },
  "cells": [
    {
      "cell_type": "markdown",
      "metadata": {
        "id": "u_ULkWr2YKPZ",
        "colab_type": "text"
      },
      "source": [
        "**15. 서울에서 김서방 찾기**\n",
        "\n",
        "String형 배열 seoul의 element중 Kim의 위치 x를 찾아, ``김서방은 x에 있다``는 String을 반환하는 함수, solution을 완성하세요. seoul에 Kim은 오직 한 번만 나타나며 잘못된 값이 입력되는 경우는 없습니다."
      ]
    },
    {
      "cell_type": "code",
      "metadata": {
        "id": "uym9FlzlYE3i",
        "colab_type": "code",
        "colab": {
          "base_uri": "https://localhost:8080/",
          "height": 35
        },
        "outputId": "6a6aec06-c1e7-4edc-eff1-1b6b27ebaf23"
      },
      "source": [
        "# 내 코드 \n",
        "\n",
        "def solution(seoul):\n",
        "    return \"김서방은 \"+str(seoul.index('Kim'))+ \"에 있다\"\n",
        "\n",
        "seoul = ['Jane', 'Kim']\n",
        "solution(seoul)\n"
      ],
      "execution_count": 14,
      "outputs": [
        {
          "output_type": "execute_result",
          "data": {
            "text/plain": [
              "'김서방은 1에 있다'"
            ]
          },
          "metadata": {
            "tags": []
          },
          "execution_count": 14
        }
      ]
    },
    {
      "cell_type": "code",
      "metadata": {
        "id": "GUIAYyX3Yr7v",
        "colab_type": "code",
        "colab": {
          "base_uri": "https://localhost:8080/",
          "height": 35
        },
        "outputId": "d5699c3f-8b5f-43d7-abe1-19da030caa85"
      },
      "source": [
        "# 더 나은 코드 \n",
        "\n",
        "def solution(seoul):\n",
        "    return \"김서방은 {}에 있다\".format(seoul.index('Kim'))\n",
        "\n",
        "seoul = ['Jane', 'Kim']\n",
        "solution(seoul)"
      ],
      "execution_count": 15,
      "outputs": [
        {
          "output_type": "execute_result",
          "data": {
            "text/plain": [
              "'김서방은 1에 있다'"
            ]
          },
          "metadata": {
            "tags": []
          },
          "execution_count": 15
        }
      ]
    }
  ]
}