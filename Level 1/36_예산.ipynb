{
  "nbformat": 4,
  "nbformat_minor": 0,
  "metadata": {
    "colab": {
      "name": "36. 예산",
      "provenance": [],
      "collapsed_sections": []
    },
    "kernelspec": {
      "name": "python3",
      "display_name": "Python 3"
    }
  },
  "cells": [
    {
      "cell_type": "markdown",
      "metadata": {
        "id": "SuoXUwsYEg2a",
        "colab_type": "text"
      },
      "source": [
        "**36. 예산**\n",
        "\n",
        "S사에서는 각 부서에 필요한 물품을 지원해 주기 위해 부서별로 물품을 구매하는데 필요한 금액을 조사했습니다. 그러나, 전체 예산이 정해져 있기 때문에 모든 부서의 물품을 구매해 줄 수는 없습니다. 그래서 최대한 많은 부서의 물품을 구매해 줄 수 있도록 하려고 합니다.\n",
        "\n",
        "물품을 구매해 줄 때는 각 부서가 신청한 금액만큼을 모두 지원해 줘야 합니다. 예를 들어 1,000원을 신청한 부서에는 정확히 1,000원을 지원해야 하며, 1,000원보다 적은 금액을 지원해 줄 수는 없습니다.\n",
        "\n",
        "부서별로 신청한 금액이 들어있는 배열 d와 예산 budget이 매개변수로 주어질 때, 최대 몇 개의 부서에 물품을 지원할 수 있는지 return 하도록 solution 함수를 완성해주세요.\n"
      ]
    },
    {
      "cell_type": "code",
      "metadata": {
        "id": "0mF3A3LMEd8T",
        "colab_type": "code",
        "outputId": "1a4b1cac-ca7e-4ae3-fed9-28bd92cad41f",
        "colab": {
          "base_uri": "https://localhost:8080/",
          "height": 34
        }
      },
      "source": [
        "# 내 코드\n",
        "\n",
        "def solution(d, budget):\n",
        "    result = 0\n",
        "    while (len(d)>0) and (min(d) <= budget):   \n",
        "        budget -= min(d)\n",
        "        d.remove(min(d)) \n",
        "        result += 1 \n",
        "    return result\n",
        "\n",
        "d = [2, 2, 3, 3]\n",
        "budget = 10\n",
        "\n",
        "d = [1, 3, 2, 5, 4]\n",
        "budget = 9\n",
        "\n",
        "solution(d, budget)\n",
        "\n"
      ],
      "execution_count": 38,
      "outputs": [
        {
          "output_type": "execute_result",
          "data": {
            "text/plain": [
              "3"
            ]
          },
          "metadata": {
            "tags": []
          },
          "execution_count": 38
        }
      ]
    },
    {
      "cell_type": "code",
      "metadata": {
        "id": "etyo3rHzzrPr",
        "colab_type": "code",
        "outputId": "fdc99041-fede-43e1-e95d-9b11791d198b",
        "colab": {
          "base_uri": "https://localhost:8080/",
          "height": 34
        }
      },
      "source": [
        "# 더 나은 코드 \n",
        " \n",
        "def solution(d, budget):\n",
        "    answer = 0\n",
        "    sum = 0\n",
        "    sortD = sorted(d)\n",
        "    for i in sortD:\n",
        "        if (sum+i) <= budget:\n",
        "            sum += i\n",
        "            answer += 1\n",
        "    return answer \n",
        "\n",
        "d = [1, 3, 2, 5, 4]\n",
        "budget = 9\n",
        "\n",
        "solution(d, budget)"
      ],
      "execution_count": 39,
      "outputs": [
        {
          "output_type": "execute_result",
          "data": {
            "text/plain": [
              "3"
            ]
          },
          "metadata": {
            "tags": []
          },
          "execution_count": 39
        }
      ]
    }
  ]
}