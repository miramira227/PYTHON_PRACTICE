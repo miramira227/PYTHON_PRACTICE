{
  "nbformat": 4,
  "nbformat_minor": 0,
  "metadata": {
    "colab": {
      "name": "48. 기능개발",
      "provenance": []
    },
    "kernelspec": {
      "name": "python3",
      "display_name": "Python 3"
    }
  },
  "cells": [
    {
      "cell_type": "markdown",
      "metadata": {
        "id": "AKizio0qhxa4",
        "colab_type": "text"
      },
      "source": [
        "**48. 기능개발**\n",
        "\n",
        "프로그래머스 팀에서는 기능 개선 작업을 수행 중입니다. 각 기능은 진도가 100%일 때 서비스에 반영할 수 있습니다.\n",
        "\n",
        "또, 각 기능의 개발속도는 모두 다르기 때문에 뒤에 있는 기능이 앞에 있는 기능보다 먼저 개발될 수 있고, 이때 뒤에 있는 기능은 앞에 있는 기능이 배포될 때 함께 배포됩니다.\n",
        "\n",
        "먼저 배포되어야 하는 순서대로 작업의 진도가 적힌 정수 배열 progresses와 각 작업의 개발 속도가 적힌 정수 배열 speeds가 주어질 때 각 배포마다 몇 개의 기능이 배포되는지를 return 하도록 solution 함수를 완성하세요."
      ]
    },
    {
      "cell_type": "code",
      "metadata": {
        "id": "V4Upv6aSWW8R",
        "colab_type": "code",
        "outputId": "6fe55539-ad4f-4c13-f411-814763f3cad5",
        "colab": {
          "base_uri": "https://localhost:8080/",
          "height": 36
        }
      },
      "source": [
        "# 내 코드\n",
        "\n",
        "def nth(x):             # <-- list 내의 한 pair에 적용할 함수 \n",
        "    n = 0\n",
        "    while x[0] + x[1] * n < 100:\n",
        "        n += 1\n",
        "    return n\n",
        "\n",
        "def finder(x):          # x = [7, 3, 8, 7] --> [2, 2]\n",
        "    max_ = x[0]\n",
        "    count_list = []\n",
        "    count = 0\n",
        "    for i in range(len(x)):\n",
        "        if max_ >= x[i]:\n",
        "            count += 1 \n",
        "        else: \n",
        "            max_ = x[i]\n",
        "            count_list.append(count)\n",
        "            count = 1\n",
        "        if i == len(x)-1:\n",
        "            count_list.append(count)\n",
        "    return count_list\n",
        "\n",
        "def solution(progresses, speeds):\n",
        "    pair = list(zip(progresses, speeds))\n",
        "    nth_list = list(map(lambda x: nth(x), pair))\n",
        "    find_list = finder(nth_list)\n",
        "    return find_list\n",
        "\n",
        "progresses = [93, 30, 55]\n",
        "speeds = [1, 30, 5]\n",
        "\n",
        "solution(progresses, speeds)\n"
      ],
      "execution_count": 68,
      "outputs": [
        {
          "output_type": "execute_result",
          "data": {
            "text/plain": [
              "[2, 1]"
            ]
          },
          "metadata": {
            "tags": []
          },
          "execution_count": 68
        }
      ]
    },
    {
      "cell_type": "code",
      "metadata": {
        "id": "w3blqQnDZsfg",
        "colab_type": "code",
        "colab": {
          "base_uri": "https://localhost:8080/",
          "height": 36
        },
        "outputId": "bcac8541-1d09-4ff9-c0c2-0bf9bcb9f0e4"
      },
      "source": [
        "# 더 나은 코드 \n",
        "\n",
        "def solution(progresses, speeds):\n",
        "    Q=[]\n",
        "    for p, s in zip(progresses, speeds):\n",
        "        if len(Q)==0 or Q[-1][0]<-((p-100)//s):\n",
        "            Q.append([-((p-100)//s),1])\n",
        "        else:\n",
        "            Q[-1][1]+=1\n",
        "    return [q[1] for q in Q]\n",
        "\n",
        "progresses = [93, 30, 55]\n",
        "speeds = [1, 30, 5]\n",
        "\n",
        "solution(progresses, speeds)\n"
      ],
      "execution_count": 67,
      "outputs": [
        {
          "output_type": "execute_result",
          "data": {
            "text/plain": [
              "[2, 1]"
            ]
          },
          "metadata": {
            "tags": []
          },
          "execution_count": 67
        }
      ]
    },
    {
      "cell_type": "code",
      "metadata": {
        "id": "C8aDqI61zm9w",
        "colab_type": "code",
        "colab": {
          "base_uri": "https://localhost:8080/",
          "height": 36
        },
        "outputId": "3d4cd70c-7634-4240-b413-4e7ee1bcf25f"
      },
      "source": [
        "# 더 명확한 코드 \n",
        "\n",
        "def solution(progresses, speeds):\n",
        "    answer = []\n",
        "    time = 0\n",
        "    count = 0\n",
        "    while len(progresses)> 0:\n",
        "        if (progresses[0] + time*speeds[0]) >= 100:\n",
        "            progresses.pop(0)\n",
        "            speeds.pop(0)\n",
        "            count += 1\n",
        "        else:\n",
        "            if count > 0:\n",
        "                answer.append(count)\n",
        "                count = 0\n",
        "            time += 1\n",
        "    answer.append(count)\n",
        "    return answer\n",
        "\n",
        "progresses = [93, 30, 55]\n",
        "speeds = [1, 30, 5]\n",
        "\n",
        "solution(progresses, speeds)\n"
      ],
      "execution_count": 69,
      "outputs": [
        {
          "output_type": "execute_result",
          "data": {
            "text/plain": [
              "[2, 1]"
            ]
          },
          "metadata": {
            "tags": []
          },
          "execution_count": 69
        }
      ]
    }
  ]
}