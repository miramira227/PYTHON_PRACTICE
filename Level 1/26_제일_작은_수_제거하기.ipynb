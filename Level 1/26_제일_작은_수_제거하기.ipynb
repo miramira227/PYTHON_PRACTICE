{
  "nbformat": 4,
  "nbformat_minor": 0,
  "metadata": {
    "colab": {
      "name": "26. 제일 작은 수 제거하기",
      "provenance": []
    },
    "kernelspec": {
      "name": "python3",
      "display_name": "Python 3"
    }
  },
  "cells": [
    {
      "cell_type": "markdown",
      "metadata": {
        "id": "SuoXUwsYEg2a",
        "colab_type": "text"
      },
      "source": [
        "**26. 제일 작은 수 제거하기**\n",
        "\n",
        "정수를 저장한 배열, arr 에서 가장 작은 수를 제거한 배열을 리턴하는 함수, solution을 완성해주세요. 단, 리턴하려는 배열이 빈 배열인 경우엔 배열에 -1을 채워 리턴하세요. 예를들어 arr이 [4,3,2,1]인 경우는 [4,3,2]를 리턴 하고, [10]면 [-1]을 리턴 합니다."
      ]
    },
    {
      "cell_type": "code",
      "metadata": {
        "id": "0mF3A3LMEd8T",
        "colab_type": "code",
        "outputId": "18c53e54-7e20-4c81-c271-b9df6579b63e",
        "colab": {
          "base_uri": "https://localhost:8080/",
          "height": 35
        }
      },
      "source": [
        "# 내 코드\n",
        "\n",
        "def solution(arr):\n",
        "    if len(arr) == 1:\n",
        "        return [-1]\n",
        "    else:\n",
        "        arr.remove(min(arr))\n",
        "        return arr\n",
        "\n",
        "solution([4, 3, 2, 1])"
      ],
      "execution_count": 20,
      "outputs": [
        {
          "output_type": "execute_result",
          "data": {
            "text/plain": [
              "[4, 3, 2]"
            ]
          },
          "metadata": {
            "tags": []
          },
          "execution_count": 20
        }
      ]
    },
    {
      "cell_type": "code",
      "metadata": {
        "id": "Wf3gcJB_EsiO",
        "colab_type": "code",
        "outputId": "a3d02787-4953-4ccb-dcf6-ea83cb0aa25c",
        "colab": {
          "base_uri": "https://localhost:8080/",
          "height": 35
        }
      },
      "source": [
        "# 더 나은 코드\n",
        "\n",
        "def rm_small(mylist):\n",
        "    return [i for i in mylist if i > min(mylist)]\n",
        "\n",
        "solution([4, 3, 2, 1])"
      ],
      "execution_count": 21,
      "outputs": [
        {
          "output_type": "execute_result",
          "data": {
            "text/plain": [
              "[4, 3, 2]"
            ]
          },
          "metadata": {
            "tags": []
          },
          "execution_count": 21
        }
      ]
    }
  ]
}