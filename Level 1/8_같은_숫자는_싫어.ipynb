{
  "nbformat": 4,
  "nbformat_minor": 0,
  "metadata": {
    "colab": {
      "name": "8. 같은 숫자는 싫어",
      "provenance": []
    },
    "kernelspec": {
      "name": "python3",
      "display_name": "Python 3"
    }
  },
  "cells": [
    {
      "cell_type": "markdown",
      "metadata": {
        "id": "SlVZG5IM9edL",
        "colab_type": "text"
      },
      "source": [
        "**8. 같은 숫자는 싫어**\n",
        "\n",
        "배열 arr가 주어집니다. 배열 arr의 각 원소는 숫자 0부터 9까지로 이루어져 있습니다. 이때, 배열 arr에서 연속적으로 나타나는 숫자는 하나만 남기고 전부 제거하려고 합니다. 단, 제거된 후 남은 수들을 반환할 때는 배열 arr의 원소들의 순서를 유지해야 합니다."
      ]
    },
    {
      "cell_type": "code",
      "metadata": {
        "id": "hmRfSnRSkHfO",
        "colab_type": "code",
        "outputId": "edbe36cc-7fcf-45f5-d3b8-92a24fdfb88e",
        "colab": {
          "base_uri": "https://localhost:8080/",
          "height": 34
        }
      },
      "source": [
        "\n",
        "# 내 코드 \n",
        "\n",
        "def solution(arr):\n",
        "    new_arr = list([arr[i] for i in range(len(arr)-1) if (arr[i]!=arr[i+1])])\n",
        "    new_arr.append(arr[-1])\n",
        "    return new_arr\n",
        "\n",
        "arr = [1,1,3,3,0,1]\n",
        "solution(arr)\n"
      ],
      "execution_count": 16,
      "outputs": [
        {
          "output_type": "execute_result",
          "data": {
            "text/plain": [
              "[1, 3, 0, 1]"
            ]
          },
          "metadata": {
            "tags": []
          },
          "execution_count": 16
        }
      ]
    },
    {
      "cell_type": "code",
      "metadata": {
        "id": "7PMDHxsvkhIm",
        "colab_type": "code",
        "outputId": "e5d50b03-68e9-467b-a3ea-82f35f8c2666",
        "colab": {
          "base_uri": "https://localhost:8080/",
          "height": 34
        }
      },
      "source": [
        "\n",
        "# 더 나은 코드 \n",
        "\n",
        "def no_continuous(s):\n",
        "    a = []\n",
        "    for i in s:\n",
        "        if a[-1:] == [i]: continue\n",
        "        a.append(i)\n",
        "    return a\n",
        "\n",
        "arr = [1,1,3,3,0,1]\n",
        "solution(arr)\n"
      ],
      "execution_count": 17,
      "outputs": [
        {
          "output_type": "execute_result",
          "data": {
            "text/plain": [
              "[1, 3, 0, 1]"
            ]
          },
          "metadata": {
            "tags": []
          },
          "execution_count": 17
        }
      ]
    }
  ]
}