{
  "nbformat": 4,
  "nbformat_minor": 0,
  "metadata": {
    "colab": {
      "name": "47. 멀쩡한 사각형",
      "provenance": []
    },
    "kernelspec": {
      "name": "python3",
      "display_name": "Python 3"
    }
  },
  "cells": [
    {
      "cell_type": "markdown",
      "metadata": {
        "id": "AKizio0qhxa4",
        "colab_type": "text"
      },
      "source": [
        "**47. 멀쩡한 사각형**\n",
        "\n",
        "가로 길이가 Wcm, 세로 길이가 Hcm인 직사각형 종이가 있습니다. 종이에는 가로, 세로 방향과 평행하게 격자 형태로 선이 그어져 있으며, 모든 격자칸은 1cm x 1cm 크기입니다. 이 종이를 격자 선을 따라 1cm × 1cm의 정사각형으로 잘라 사용할 예정이었는데, 누군가가 이 종이를 대각선 꼭지점 2개를 잇는 방향으로 잘라 놓았습니다. 그러므로 현재 직사각형 종이는 크기가 같은 직각삼각형 2개로 나누어진 상태입니다. 새로운 종이를 구할 수 없는 상태이기 때문에, 이 종이에서 원래 종이의 가로, 세로 방향과 평행하게 1cm × 1cm로 잘라 사용할 수 있는 만큼만 사용하기로 하였습니다.\n",
        "\n",
        "가로의 길이 W와 세로의 길이 H가 주어질 때, 사용할 수 있는 정사각형의 개수를 구하는 solution 함수를 완성해 주세요."
      ]
    },
    {
      "cell_type": "code",
      "metadata": {
        "id": "V4Upv6aSWW8R",
        "colab_type": "code",
        "outputId": "656caced-3bdb-43d6-fe6f-787033ffe6f5",
        "colab": {
          "base_uri": "https://localhost:8080/",
          "height": 55
        }
      },
      "source": [
        "# 내 코드\n",
        "\n",
        "def GCD(x, y):\n",
        "    min_, max_ = min(x, y), max(x, y)\n",
        "    gcd = 0\n",
        "    print(min_, max_)\n",
        "    for i in range(1, min_+1):      # i = 1 ~ 8\n",
        "        if (min_ % i == 0) and (max_ % i == 0):\n",
        "            gcd = i\n",
        "    return gcd\n",
        "\n",
        "def solution(w, h):\n",
        "    gcd = GCD(w, h)\n",
        "    w_ = w / gcd\n",
        "    h_ = h / gcd\n",
        "    return int(w * h - (w_ + h_ - 1) * gcd)\n",
        "\n",
        "\n",
        "solution(8, 12)\n"
      ],
      "execution_count": 30,
      "outputs": [
        {
          "output_type": "stream",
          "text": [
            "8 12\n"
          ],
          "name": "stdout"
        },
        {
          "output_type": "execute_result",
          "data": {
            "text/plain": [
              "80"
            ]
          },
          "metadata": {
            "tags": []
          },
          "execution_count": 30
        }
      ]
    },
    {
      "cell_type": "code",
      "metadata": {
        "id": "w3blqQnDZsfg",
        "colab_type": "code",
        "colab": {
          "base_uri": "https://localhost:8080/",
          "height": 36
        },
        "outputId": "fb295b1c-6e13-4051-d178-0e0f5d01fb2b"
      },
      "source": [
        "# 더 나은 코드 \n",
        "\n",
        "def gcd(a,b): return b if (a==0) else gcd(b%a,a)    \n",
        "def solution(w,h): return w*h-w-h+gcd(w,h)\n",
        "\n",
        "solution(8, 12)\n"
      ],
      "execution_count": 31,
      "outputs": [
        {
          "output_type": "execute_result",
          "data": {
            "text/plain": [
              "80"
            ]
          },
          "metadata": {
            "tags": []
          },
          "execution_count": 31
        }
      ]
    }
  ]
}